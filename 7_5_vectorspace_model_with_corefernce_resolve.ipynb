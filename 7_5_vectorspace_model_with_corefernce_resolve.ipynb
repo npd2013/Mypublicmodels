{
  "nbformat": 4,
  "nbformat_minor": 0,
  "metadata": {
    "colab": {
      "name": " 7.5- vectorspace model with corefernce resolve  ",
      "provenance": [],
      "collapsed_sections": [],
      "mount_file_id": "1sKrMKbzgHPMzlDtxsm5D8IAQbNUDeZRq",
      "authorship_tag": "ABX9TyPYk28huO5KJZAQA4rd8F4g",
      "include_colab_link": true
    },
    "kernelspec": {
      "display_name": "Python 3",
      "name": "python3"
    }
  },
  "cells": [
    {
      "cell_type": "markdown",
      "metadata": {
        "id": "view-in-github",
        "colab_type": "text"
      },
      "source": [
        "<a href=\"https://colab.research.google.com/github/npd2013/Mypublicmodels/blob/main/7_5_vectorspace_model_with_corefernce_resolve.ipynb\" target=\"_parent\"><img src=\"https://colab.research.google.com/assets/colab-badge.svg\" alt=\"Open In Colab\"/></a>"
      ]
    },
    {
      "cell_type": "markdown",
      "metadata": {
        "id": "H2jwlnJOe0wa"
      },
      "source": [
        "SETUP1:-  \n",
        "-Single document text summarization \n",
        "\n",
        "-frequency based method for scoring sentences \n",
        "\n",
        "-preprocessing applied are knowledge based normalization,  stopword removal and stemming.\n",
        "-Using  CUE WORDS - actors in story.\n",
        "\n",
        "-automatic evaluation using rouge and compression ratio analysis.\n",
        "\n",
        "note:results stored in another file \n",
        "\n",
        "\n",
        "Algorithm steps :- \n",
        "\n",
        "1) Preprocessing of text- \n",
        "\n",
        "    1.1)Cleaning \n",
        "\n",
        "    1.1.1)Removal of unnecessary symbols/charachters like html tags ,extra spaces,extra newlines etc.\n",
        "         \n",
        " \n",
        " 1.2) Line segmentation\n",
        " \n",
        "    -using indicnlp with own segmenter  \n",
        "    -Divide text into lines and find token words using own word segmenter.\n",
        " 1.3) word segmentation\n",
        "    -Divide the lines into words.\n",
        "    -words can be separated by whitespace or characters like quotes or comma.  use the punctuation list to exclude from the word.Only extract valid words \n",
        "\n",
        "  1.4) Stopword removal \n",
        " \n",
        "       -basic set of 15 words removed from lines. \n",
        "  1.5) Co-reference resolution\n",
        "       - if current sentences contain referencewords\n",
        "            - if previous two sentences contain \n",
        "               \"actor\" words or its variations\n",
        "                - replace referenceword with actor word.\n",
        "\n",
        "   \n",
        " 1.5) Stemming\n",
        "    -if word hyphenated (considered as joint word)\n",
        "        -exit   \n",
        "\n",
        "    -use static dictionary of standard words.\n",
        " \n",
        "    -remove matching salutation from suffix word.\n",
        "    -Check is it valid dictionary word or wrong spelled dictionary word \n",
        "       -add the word in lemmalist\n",
        "       exit\n",
        "    \n",
        "    -if not valid dictionary word\n",
        "\n",
        "       -look up prefix and trim if match found\n",
        "\n",
        "       -look up replacement and trim if match found\n",
        "\n",
        "       - look up longest suffix rules matching and trim if match found.\n",
        "    \n",
        "    -if trimmed word size>=3 \n",
        "          - stemword = trimword\n",
        "          - store the mapping of stemword and orginalword in lemmalist.\n",
        "          - replace word with stemword found\n",
        "  \n",
        "1.6) Stem to lemma\n",
        "   -for all words in lemmalist \n",
        "     - if \n",
        "                   \n",
        "               \n",
        "       \n",
        "\n",
        "2)Make vector space representation -based on term frequency\n",
        "\n",
        "    2.1) Compute tfidf using sklearn module of python.\n",
        "\n",
        "    2.2) For each sentence - \n",
        "\n",
        "     2.2.1) Compute sentence score= total tfidf score of all words in sentence divide by number of words in sentence.\n",
        "     2.2.2) If it is first or last sentence , increase its weightage ten times.\n",
        "  \n",
        "  2.3) For each sentence -\n",
        "\n",
        "     3.2.1) Compute the average normalized score  : \n",
        "          Current sentence score divide by total sentence score of text.\n",
        "      \n",
        "\n",
        " 4) //Find top \"n\" scored sentences.\n",
        "\n",
        " 4.1) Set n= number of lines in gold summary. 0r \"x\" percent of original text.    \n",
        " 4.2) Summary_length=n\n",
        " 4.3) Sorted_sentences=sort(sentences) based on their scores.\n",
        "    \n",
        " 5) //Generate the summary -\n",
        "\n",
        "    for sentences = 1 to gold_summary_length \n",
        "      - if sentence in gold_summary  \n",
        "           put sentence in system_summary. \n",
        "  \n",
        "6)// Evaluate the summary-\n",
        "\n",
        "    6.1) use the Rouge score \n",
        "      - Get the precision ,recall and F-measure for rouge-1 ,rouge2 and rouge-LCS.   \n",
        "\n",
        "    6.2) Find comression ratio of text\n",
        "       6.2.1) sentence compression ratio\n",
        "        = total sentences in system_summary/total sentences in source text \n",
        "        6.2.2) Word compression ratio\n",
        "        =total words in system_summary/total words in source \n",
        "  \n"
      ]
    },
    {
      "cell_type": "code",
      "metadata": {
        "colab": {
          "base_uri": "https://localhost:8080/"
        },
        "id": "aeLGOonUpR4z",
        "outputId": "2448828f-3d0f-4b30-f152-e59213d2e564"
      },
      "source": [
        "#install needed packages \n",
        "#!pip install  gensim  #has word2vec model built, using english \n",
        "\n",
        "!pip install pyiwn\n",
        "!pip install -U scikit-learn\n",
        "!pip install rouge\n",
        "!pip install indic-nlp-library\n"
      ],
      "execution_count": 1,
      "outputs": [
        {
          "output_type": "stream",
          "text": [
            "Collecting pyiwn\n",
            "  Downloading https://files.pythonhosted.org/packages/f1/80/55d7412ed602071de200b74d75f7cba8c9b4fe6a2f3df33c6d5cd0e6cb83/pyiwn-0.0.5-py3-none-any.whl\n",
            "Requirement already satisfied: pandas in /usr/local/lib/python3.7/dist-packages (from pyiwn) (1.1.5)\n",
            "Requirement already satisfied: requests in /usr/local/lib/python3.7/dist-packages (from pyiwn) (2.23.0)\n",
            "Requirement already satisfied: python-dateutil>=2.7.3 in /usr/local/lib/python3.7/dist-packages (from pandas->pyiwn) (2.8.1)\n",
            "Requirement already satisfied: numpy>=1.15.4 in /usr/local/lib/python3.7/dist-packages (from pandas->pyiwn) (1.19.5)\n",
            "Requirement already satisfied: pytz>=2017.2 in /usr/local/lib/python3.7/dist-packages (from pandas->pyiwn) (2018.9)\n",
            "Requirement already satisfied: certifi>=2017.4.17 in /usr/local/lib/python3.7/dist-packages (from requests->pyiwn) (2020.12.5)\n",
            "Requirement already satisfied: urllib3!=1.25.0,!=1.25.1,<1.26,>=1.21.1 in /usr/local/lib/python3.7/dist-packages (from requests->pyiwn) (1.24.3)\n",
            "Requirement already satisfied: idna<3,>=2.5 in /usr/local/lib/python3.7/dist-packages (from requests->pyiwn) (2.10)\n",
            "Requirement already satisfied: chardet<4,>=3.0.2 in /usr/local/lib/python3.7/dist-packages (from requests->pyiwn) (3.0.4)\n",
            "Requirement already satisfied: six>=1.5 in /usr/local/lib/python3.7/dist-packages (from python-dateutil>=2.7.3->pandas->pyiwn) (1.15.0)\n",
            "Installing collected packages: pyiwn\n",
            "Successfully installed pyiwn-0.0.5\n",
            "Collecting scikit-learn\n",
            "\u001b[?25l  Downloading https://files.pythonhosted.org/packages/f3/74/eb899f41d55f957e2591cde5528e75871f817d9fb46d4732423ecaca736d/scikit_learn-0.24.1-cp37-cp37m-manylinux2010_x86_64.whl (22.3MB)\n",
            "\u001b[K     |████████████████████████████████| 22.3MB 1.6MB/s \n",
            "\u001b[?25hRequirement already satisfied, skipping upgrade: joblib>=0.11 in /usr/local/lib/python3.7/dist-packages (from scikit-learn) (1.0.1)\n",
            "Requirement already satisfied, skipping upgrade: scipy>=0.19.1 in /usr/local/lib/python3.7/dist-packages (from scikit-learn) (1.4.1)\n",
            "Collecting threadpoolctl>=2.0.0\n",
            "  Downloading https://files.pythonhosted.org/packages/f7/12/ec3f2e203afa394a149911729357aa48affc59c20e2c1c8297a60f33f133/threadpoolctl-2.1.0-py3-none-any.whl\n",
            "Requirement already satisfied, skipping upgrade: numpy>=1.13.3 in /usr/local/lib/python3.7/dist-packages (from scikit-learn) (1.19.5)\n",
            "Installing collected packages: threadpoolctl, scikit-learn\n",
            "  Found existing installation: scikit-learn 0.22.2.post1\n",
            "    Uninstalling scikit-learn-0.22.2.post1:\n",
            "      Successfully uninstalled scikit-learn-0.22.2.post1\n",
            "Successfully installed scikit-learn-0.24.1 threadpoolctl-2.1.0\n",
            "Collecting rouge\n",
            "  Downloading https://files.pythonhosted.org/packages/43/cc/e18e33be20971ff73a056ebdb023476b5a545e744e3fc22acd8c758f1e0d/rouge-1.0.0-py3-none-any.whl\n",
            "Requirement already satisfied: six in /usr/local/lib/python3.7/dist-packages (from rouge) (1.15.0)\n",
            "Installing collected packages: rouge\n",
            "Successfully installed rouge-1.0.0\n",
            "Collecting indic-nlp-library\n",
            "  Downloading https://files.pythonhosted.org/packages/2f/51/f4e4542a226055b73a621ad442c16ae2c913d6b497283c99cae7a9661e6c/indic_nlp_library-0.71-py3-none-any.whl\n",
            "Collecting morfessor\n",
            "  Downloading https://files.pythonhosted.org/packages/39/e6/7afea30be2ee4d29ce9de0fa53acbb033163615f849515c0b1956ad074ee/Morfessor-2.0.6-py3-none-any.whl\n",
            "Requirement already satisfied: pandas in /usr/local/lib/python3.7/dist-packages (from indic-nlp-library) (1.1.5)\n",
            "Requirement already satisfied: numpy in /usr/local/lib/python3.7/dist-packages (from indic-nlp-library) (1.19.5)\n",
            "Requirement already satisfied: pytz>=2017.2 in /usr/local/lib/python3.7/dist-packages (from pandas->indic-nlp-library) (2018.9)\n",
            "Requirement already satisfied: python-dateutil>=2.7.3 in /usr/local/lib/python3.7/dist-packages (from pandas->indic-nlp-library) (2.8.1)\n",
            "Requirement already satisfied: six>=1.5 in /usr/local/lib/python3.7/dist-packages (from python-dateutil>=2.7.3->pandas->indic-nlp-library) (1.15.0)\n",
            "Installing collected packages: morfessor, indic-nlp-library\n",
            "Successfully installed indic-nlp-library-0.71 morfessor-2.0.6\n"
          ],
          "name": "stdout"
        }
      ]
    },
    {
      "cell_type": "code",
      "metadata": {
        "id": "7XlBVjZMvCPA",
        "colab": {
          "resources": {
            "http://localhost:8080/nbextensions/google.colab/files.js": {
              "data": "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",
              "ok": true,
              "headers": [
                [
                  "content-type",
                  "application/javascript"
                ]
              ],
              "status": 200,
              "status_text": ""
            }
          },
          "base_uri": "https://localhost:8080/",
          "height": 140
        },
        "outputId": "55666667-ff76-4d65-f038-137d40786932"
      },
      "source": [
        "from google.colab import files #upload the files from local machine on the colab environment \n",
        "uploaded = files.upload()\n"
      ],
      "execution_count": 2,
      "outputs": [
        {
          "output_type": "display_data",
          "data": {
            "text/html": [
              "\n",
              "     <input type=\"file\" id=\"files-aa5f9ff7-77fc-4e52-b74a-0570623e1f9f\" name=\"files[]\" multiple disabled\n",
              "        style=\"border:none\" />\n",
              "     <output id=\"result-aa5f9ff7-77fc-4e52-b74a-0570623e1f9f\">\n",
              "      Upload widget is only available when the cell has been executed in the\n",
              "      current browser session. Please rerun this cell to enable.\n",
              "      </output>\n",
              "      <script src=\"/nbextensions/google.colab/files.js\"></script> "
            ],
            "text/plain": [
              "<IPython.core.display.HTML object>"
            ]
          },
          "metadata": {
            "tags": []
          }
        },
        {
          "output_type": "stream",
          "text": [
            "Saving story51.txt to story51.txt\n",
            "Saving story51-gold.txt to story51-gold.txt\n",
            "Saving story51-topic.txt to story51-topic.txt\n"
          ],
          "name": "stdout"
        }
      ]
    },
    {
      "cell_type": "code",
      "metadata": {
        "id": "A7gUXWZMwb6D"
      },
      "source": [
        "!cp \"/content/drive/My Drive/Colab Notebooks/guj_final_preporcess-v6.py\" \"guj_final_preporcess.py\" #The preprocessing modules designed\n",
        "!cp \"/content/drive/My Drive/Colab Notebooks/Evaluation.py\" \"Evaluation.py\"   # the evaluation module designed\n",
        "!cp \"/content/drive/My Drive/Colab Notebooks/guj_final_postprocessing-v1.py\" \"post.py\"   # Get the post processing module \n",
        "!cp \"/content/drive/My Drive/Colab Notebooks/my-dictionary-gujarati.csv\" \"my-dictionary-gujarati.csv\" #the static dictionary of words in gujarati\n"
      ],
      "execution_count": 3,
      "outputs": []
    },
    {
      "cell_type": "code",
      "metadata": {
        "id": "Jo4oVUa5g9D-",
        "colab": {
          "base_uri": "https://localhost:8080/"
        },
        "outputId": "88c8dff2-8500-4386-e2c4-a617ff1e8ede"
      },
      "source": [
        "from sklearn.feature_extraction.text import CountVectorizer\n",
        "from sklearn.feature_extraction.text import TfidfVectorizer\n",
        "import io\n",
        "import csv\n",
        "from Evaluation import *\n",
        "from post import *\n",
        "import pandas as pd \n",
        "from guj_final_preporcess import * #to get the required preporcessing modules -from self made pipeline\n",
        "import pyiwn"
      ],
      "execution_count": 4,
      "outputs": [
        {
          "output_type": "stream",
          "text": [
            "2021-04-23:12:25:55,866 INFO     [helpers.py:20] Downloading IndoWordNet data of size ~31 MB...\n"
          ],
          "name": "stderr"
        },
        {
          "output_type": "stream",
          "text": [
            "[██████████████████████████████████████████████████]"
          ],
          "name": "stdout"
        },
        {
          "output_type": "stream",
          "text": [
            "2021-04-23:12:25:57,912 INFO     [helpers.py:43] Extracting /root/iwn_data.tar.gz into /root...\n"
          ],
          "name": "stderr"
        },
        {
          "output_type": "stream",
          "text": [
            "\n"
          ],
          "name": "stdout"
        },
        {
          "output_type": "stream",
          "text": [
            "2021-04-23:12:25:59,114 INFO     [helpers.py:48] Removing temporary zip file from /root/iwn_data.tar.gz\n",
            "2021-04-23:12:25:59,121 INFO     [helpers.py:51] IndoWordNet data successfully downloaded at /root/iwn_data\n"
          ],
          "name": "stderr"
        }
      ]
    },
    {
      "cell_type": "code",
      "metadata": {
        "id": "gu3f_IRUd2NW",
        "colab": {
          "base_uri": "https://localhost:8080/"
        },
        "outputId": "50ddebec-d100-4fe2-8b77-8d46a3fa4eb5"
      },
      "source": [
        "#take all the needed inputs from user \n",
        "basename=input('Enter the basic name of file(without txt),other names wud be autogenerated  ')\n",
        "filename=basename+'.txt'\n",
        "gold_filename=basename+'-gold.txt'\n",
        "topic_filename=basename+'-topic.txt'\n",
        "#filename=input('Enter text file name to be summarized ') #Ex: file1.txt\n",
        "analysefile_name=filename.replace('.txt','-analysis-TF-without pipeline  .txt')# to store the data for later analysis . Example- file1-results.txt \n",
        "features_filename=filename.replace('.txt','-Features-TF-without pipeline- .csv') # file-1-features.csv\n",
        "filename_statistics='datastatisticsall--TF-without pipeline .csv'\n",
        "#gold_filename=input(\"Enter name of file containing gold summary  \") #example file1-gold.txt ,assumes the name is having pattern ending with gold.txt \n",
        "summary_filename=filename.replace('gold.txt','-systemsummary--TF-without pipeline .txt') # example file1-gold-system-summary.txt\n",
        "\n",
        "\n",
        "rougescorefile=\"Rougeresults--TF-withpipeline-- .csv\"\n",
        "dictionaryfile=\"my-dictionary-gujarati.csv\""
      ],
      "execution_count": 5,
      "outputs": [
        {
          "output_type": "stream",
          "text": [
            "Enter the basic name of file(without txt),other names wud be autogenerated  story51\n"
          ],
          "name": "stdout"
        }
      ]
    },
    {
      "cell_type": "code",
      "metadata": {
        "id": "K-yIPsZbj-Wn"
      },
      "source": [
        "\"\"\"\n",
        "print(\"enter modules you want to activate in current run \")\n",
        "vectormodel=input(\"1- Using TFIDF technique  2- Using TF technique :: your choice\")\n",
        "stopwordflag=input(\"3-With stopword removal phase    4- Without stopword removal phase:: your choice\")\n",
        "stemmerflag=input(\"5- With stemmer phase     6- Without stemmer phase:: your choice \")\n",
        "lemmaflag=input(\"7- With stem to lemma c3onversion.  8- Without stem to lemma conversion:: your choice\")\n",
        "cueflag=input(\"9- Using cuewords list 10-Without using cuewordslist\" )\n",
        "coreferenceflag=input(\"11- Using coreference resolution list 12-Without using coreference resolution\")\n",
        "\"\"\"\n",
        "vectormodel='2'\n",
        "stopwordflag='3'\n",
        "stemmerflag='5'\n",
        "lemmaflag='7'\n",
        "cueflag='9'\n",
        "coreferenceflag='11'\n",
        "\n"
      ],
      "execution_count": 6,
      "outputs": []
    },
    {
      "cell_type": "code",
      "metadata": {
        "id": "jZfHoaVCaViy"
      },
      "source": [
        "#read the input original file . \n",
        "\n",
        "guj_clean_html(filename,filename)# text cleaning remove the html tags and overwrite the original file \n",
        "guj_clean_html(gold_filename,gold_filename)# clean the html tags from gold file \n",
        "guj_clean_html(topic_filename,topic_filename)\n",
        "\n",
        "guj_clean_extra(filename,filename)#remove the extra symbols like multiple punctuations and overwrite original file\n",
        "guj_clean_extra(gold_filename,gold_filename)\n",
        "guj_clean_extra(topic_filename,topic_filename) \n",
        "#Display the given data in input files \n",
        "with io.open(filename,'r',encoding='utf-8') as f: \n",
        "\t\t  lines=f.read()#get all the lines from file\n",
        "analyzedfile_obj=open(analysefile_name,mode='w',encoding='UTF-8')\n",
        "analyzedfile_obj.write(\"\\n\\n The original file is :------\\n\")\n",
        "analyzedfile_obj.write(lines)\n",
        "\n",
        "with io.open(gold_filename,'r',encoding='utf-8') as f: \n",
        "\t\t  lines=f.read()#get all the lines from file\n",
        "\n",
        "analyzedfile_obj.write(\"\\n\\n The gold summary provided by expert  is -->\\n\")    \n",
        "analyzedfile_obj.write(lines)\n",
        "with io.open(topic_filename,'r',encoding='utf-8') as f: \n",
        "\t\t  lines=f.read()#get all the lines from file\n",
        "\n",
        "analyzedfile_obj.write(\"\\n\\n The topic source file given is :------\\n\")\n",
        "analyzedfile_obj.write(lines)\n",
        "\n",
        "\n",
        "\n",
        "# now find the statistics of originally given informations \n",
        "originalcorpora,totaloriginalsentences=guj_corpus_generate(filename) #make corpus of original data \n",
        "goldcorpora,totalgoldcorpora=guj_corpus_generate(gold_filename) #make corpus of gold \n",
        "#print(goldcorpora)\n",
        "analyzedfile_obj.write(\"\\n\\n STATISTICS------>\")\n",
        "analyzedfile_obj.writelines(\"\\n Original file sentences(RAW) - {0}\\n\".format(totaloriginalsentences))\n",
        "analyzedfile_obj.writelines(\"\\n gold file sentences(RAW)- {0}\\n\".format(totalgoldcorpora))\n",
        "\n",
        "###################################################################\n",
        "########################  Step-1 ##################################\n",
        "#####################  cleaning phase  ########################\n",
        "\n",
        "#doing cleaning of file \n",
        "#remove newlines and other unnecessary data and clean it for feature extraction \n",
        "#to replace the data as per our format, replacing abbreviations dot with '*'\n",
        "normfile=\"temp1.txt\"\n",
        "norm_gold_file=\"temp2.txt\"\n",
        "clean_topic_file=norm_topic_file=\"temp3.txt\"\n",
        "\n",
        "guj_clean_text(filename,normfile) \n",
        "\n",
        "guj_clean_text(gold_filename,norm_gold_file)\n",
        "guj_clean_text(topic_filename,clean_topic_file) #no further process needed for topic file, it is already cleaned.\n",
        "\n",
        "#Now display the stats and make corpora after cleaning file and removing new lines . \n",
        "normcorpora,totalnormsentences=guj_corpus_generate(normfile)  \n",
        "goldcorpora,totalnormgoldsentences=guj_corpus_generate(norm_gold_file) \n",
        "topiccorpora,totaltopicsentences=guj_corpus_generate(norm_topic_file)\n",
        "\n",
        "analyzedfile_obj.write(\" Segmented Lines in source -{0} \\n \".format(totalnormsentences))\n",
        "analyzedfile_obj.write(\" Segmented Lines in gold -{0}\\n \".format(totalnormgoldsentences))\n",
        "analyzedfile_obj.write(\" the total sentences in normalized topic file are= {0} \".format(totaltopicsentences))\n",
        "###################################################################\n",
        "########################  Step-2 ##################################\n",
        "#####################  Normalization and tokenization  for feature extraction  ########################\n",
        "\n",
        "cleanfile=\"file.txt\"\n",
        "stemmedlist=[] #to store the stemmed words \n",
        "lemmalist=[] #to store the lemmas(dictionary) words found from vacabulory \n",
        "mydictionary=guj_makedictionary(dictionaryfile) #generate the dictionary of unique words from given file of gujarati words\n",
        "vocab=guj_makevocab(normfile)\n",
        "\n",
        "words_before_stopword_removal=len(vocab)\n",
        "\n",
        "if (stopwordflag=='3'):\n",
        " cleanfile=guj_stopwordremoval(normfile,cleanfile) #remove stopwords done \n",
        "\n",
        " \n",
        "\n",
        "\n",
        "\n",
        "else :\n",
        "  #print(\"stopwords are not removed\")\n",
        "  cleanfile=normfile # no stopword removal step done ,so clean file is directly the normalized one \n",
        "\n",
        "\n",
        "\n",
        "scorpora,stotalsent=guj_corpus_generate(cleanfile) #scorpora- the changed lines after stopword removal \n",
        "\n",
        "\n",
        "focus_list=guj_makedictionary(topic_filename)\n",
        "\n",
        "## logic for co-reference resolution --\n",
        "corpora,totalsent=guj_corpus_generate(cleanfile) #divide lines into sentences-\n",
        "vocab_topic=guj_makevocab(clean_topic_file) #extra words to be included in the feature extraction ,based on topic\n",
        "\n",
        "newlist=[]\n",
        "actorlist=list(vocab_topic.keys())\n",
        "\n",
        "stem_topic_filename=\"temp4.txt\"\n",
        "guj_stemmer_new(topic_filename,stem_topic_filename,mydictionary,actorlist)\n",
        "stemtopic,totalstemline=guj_corpus_generate(stem_topic_filename)\n",
        "extrawords=list(guj_makevocab(stem_topic_filename))\n",
        "for word in extrawords:\n",
        " actorlist.append(word)\n",
        "actorlist=set(actorlist) \n",
        "\n",
        "\n",
        "\n",
        "#Do co-reference resolution within previous 2 sentences\n",
        "if (coreferenceflag=='11'):\n",
        "  cleanfile=anaphoraresolution(corpora,actorlist,cleanfile)\n",
        "\n",
        "\n",
        "\n",
        "\n",
        "vocab=guj_makevocab(cleanfile)\n",
        "words_before_stemming=len(vocab)#after anaphora resolution vocab size\n",
        "\n",
        "if (stemmerflag=='5'):\n",
        "  cleanfile,stemmedlist,lemmalist=guj_stemmer_new(cleanfile,cleanfile,mydictionary,focus_list) #stem with help from dictionary ,and get back two lists \n",
        "\n",
        "stemcorpora,stemtotalsent=guj_corpus_generate(cleanfile) #stemcorpora- the changed lines after stemming \n",
        "vocab=guj_makevocab(cleanfile)\n",
        "words_after_stemming=len(vocab)\n",
        "\n",
        "if (lemmaflag=='7'):\n",
        "  cleanfile=guj_stem_to_lemma(cleanfile,stemmedlist,lemmalist) #if have both stem and dictionary form of word ,convert to the dictionay form \n",
        "\n",
        "vocab=guj_makevocab(cleanfile)\n",
        "words_after_lemma=len(vocab)\n",
        "\n",
        "\n",
        "\n",
        "\n",
        "#!!!!!!!!!!!!!!!!!!!For finding the actors / Focus group in story !!!!!!!!!!!!!!!!!!!!!!!!!!!!!!!!!!!!!!!!!!!!!!!!!!!!!!!!!!!!!!!!!!!!!!!!!!!!!!!#####\n",
        "\n",
        "#Now working on the modified file to get various features \n",
        "guj_clean_extra(cleanfile,cleanfile) #clean any residual marks in file \n",
        "guj_clean_extra(clean_topic_file,clean_topic_file)\n",
        "guj_clean_extra(gold_filename,gold_filename)\n",
        "\n",
        "corpora,totalsent=guj_corpus_generate(cleanfile) #divide lines into sentences-\n",
        "analyzedfile_obj.write(\"\\n Lines in source after all processing -{0} \\n \".format(totalsent))\n",
        "sent_pos_list=[] #to store the sentence position\n",
        "sent_words_count=[]  # to store the total words in each sentence \n",
        "sent_number=0\n",
        "for s in corpora:\n",
        "  sent_pos_list.append(sent_number)\n",
        "  sent_number+=1\n",
        "\n",
        "  \n",
        "\n",
        "# to generate vector represnetations  \n",
        "if (vectormodel=='1'):\n",
        " vectorizer = TfidfVectorizer(tokenizer = guj_mytokenizer,min_df=0.15,max_df=0.85) #frequency of words with atleast 15% frequency\n",
        " #print(\"using TFIDF\")\n",
        "else: \n",
        " vectorizer = CountVectorizer(tokenizer = guj_mytokenizer,min_df=0.15,max_df=0.85) #frequency of words with atleast 15% frequency\n",
        " #vectorizer = CountVectorizer(tokenizer = guj_mytokenizer,max_df=0.85) #frequency of words with atleast 15% frequency\n",
        "\n",
        "try:\n",
        " cwm = vectorizer.fit_transform(corpora) #vectorize the corpus of input file\n",
        " n=0\n",
        " top_features = vectorizer.vocabulary_ #to store the features extracted\n",
        " for f in top_features.keys():\n",
        "   n+=1 #top features total count\n",
        " analyzedfile_obj.write(\"\\ntop features and their values were{0} -\".format(top_features))\n",
        " pos=n\n",
        " tokens = vectorizer.get_feature_names() #get the names of words used in vector   \n",
        "except: #no features able to pass the criteria \n",
        "  pos=0\n",
        "  top_features={}\n",
        "\n",
        "\n",
        "\n",
        "#print(\"features are - \",tokens )\n",
        "#### Extra logic for topic based vectorizor feature upadation ###########333\n",
        "if (cueflag=='9'):\n",
        "\n",
        " for feature, index in vocab_topic.items(): #take all topic words from vocab and add in features \n",
        "    \n",
        "    if feature not in top_features.keys() or len(top_features)==0:#add only if not already considered in top words or no words already in top\n",
        "          top_features[feature] = pos\n",
        "          pos=pos+1\n",
        " # re-vectorize using both sets of features\n",
        " if (vectormodel=='1'):\n",
        "  vectorizer = TfidfVectorizer(vocabulary=top_features,tokenizer = guj_mytokenizer)\n",
        " else :\n",
        "  vectorizer = CountVectorizer(vocabulary=top_features,tokenizer = guj_mytokenizer)   \n",
        " cwm = vectorizer.fit_transform(corpora)\n",
        " tokens = vectorizer.get_feature_names() #get the names of words used in vector\n",
        " top_features = vectorizer.vocabulary_\n",
        " analyzedfile_obj.write(\"\\n New top features after considering the actor words are {0} -\".format(top_features))\n",
        "#### End of extra logic for adding separate topic based keywords in learning \n",
        "\n",
        "score_list=[]\n",
        "counts=cwm.sum(axis=1) #sums the sentence wise words' tfidf scores\n",
        "scorelist=list(counts.flat)#get the list of sentencescores \n",
        "\n",
        "\n",
        "analyzedfile_obj.write(\"\\n\\n****The TF  based vector is formed ****\")\n",
        "analyzedfile_obj.write('\\n The top features used in vector are -\\n {0} '.format(cwm.shape))\n",
        "\n",
        "########################################################## \n",
        "################# ######Step3#############################\n",
        "################ Compute sentence scores #################\n",
        "##########################################################\n",
        "\n",
        "totwords=[]\n",
        "\n",
        "for s in corpora:\n",
        "   count=0\n",
        "   words=guj_mytokenizer(s)\n",
        "   for c in words:\n",
        "    count=count+1\n",
        "   totwords.append(count)\n",
        "\n",
        "\n",
        "list_of_tuples = list(zip(sent_pos_list,normcorpora,scorpora,stemcorpora,corpora,originalcorpora ,cwm.toarray(),scorelist,totwords))  \n",
        "df=pd.DataFrame(list_of_tuples, columns=['sent_pos','preprocessed_line','stopword_removed','stemmed_line','sentence_final','raw sentence','feature_vector','totalsentcount','totalwordsinsent'])\n",
        "\n",
        "df['sent_score']=df['totalsentcount']/df['totalwordsinsent']\n",
        "#based on sentence position , increase weightage of first and last and second last last sentences in txt \n",
        "df.at[0,'sent_score']=df.at[0,'sent_score']+10 \n",
        "df.at[totalnormsentences-1,'sent_score']=df.at[totalnormsentences-1,'sent_score']+10 \n",
        "df.at[totalnormsentences-2,'sent_score']=df.at[totalnormsentences-2,'sent_score']+10 \n",
        "\n",
        "\n",
        "df.to_csv(features_filename) \n",
        "\n",
        "\n"
      ],
      "execution_count": 20,
      "outputs": []
    },
    {
      "cell_type": "code",
      "metadata": {
        "id": "6NhW25DXfWop",
        "colab": {
          "base_uri": "https://localhost:8080/"
        },
        "outputId": "b0eb8fc0-c426-4a01-8586-b9931e390fa3"
      },
      "source": [
        " rougescorefilehandle=open(rougescorefile,mode='a',encoding=\"utf-8\") #to store only the rouge scores for later analysis \n",
        " resultvar = csv.writer(rougescorefilehandle, lineterminator='\\n')\t\t#to store new row for each f  \n",
        "\n",
        "\n",
        "################# ######Step4#############################\n",
        "################ Find top sentences  #################\n",
        "\n",
        "#rank and sort the sentences  based on individual sentences score \n",
        "\n",
        " percent=(totalnormgoldsentences/totalnormsentences)*100 #ideal ratio as per gold text given \n",
        " n=totalnormgoldsentences#extract sentences as per total sentences in gold summary \n",
        " data=df.sort_values([\"sent_score\"],ascending=False,kind='quicksort')\n",
        " resultlist=[]#to store the rouge score data\n",
        "\n",
        " resultlist.append(filename+\",\") #mention the source file name for record\n",
        " \n",
        " top_sent=data.iloc[0:n,1:2]  #get the sentences in top \n",
        " # print(top_sent.head())\n",
        " toplist=list(top_sent.preprocessed_line)\n",
        " #print(\"top sentences are \",toplist)\n",
        " analyzedfile_obj.write(\"\\n\\n List of top sentences are as follows-{0} \".format(toplist))\n",
        "  ##########################################################\n",
        "################# ######Step6#############################\n",
        "################ Generate summary  #################\n",
        "##########################################################\n",
        " summary=[]\n",
        " not_in_summary=[]\n",
        " sentence_number=0\n",
        " summary_lines=[]\n",
        " for sent in normcorpora:  #take one by one the sentences considered in feature vector \n",
        "    #print(\"sentence in norm corpora is \",sent)\n",
        "    if sent in toplist: #if sentence is in topranked sentences then store its number so its original line can be fetched from original corpus\n",
        "        summary.append(sentence_number)\n",
        "        summary_lines.append(sent)\n",
        "        #print(\"sentence included in summary is \",sent)\n",
        "    else:\n",
        "        not_in_summary.append(sentence_number)\n",
        "\n",
        "    sentence_number=sentence_number+1\n",
        "\n",
        " analyzedfile_obj.write(\"\\n\\n ***** The summary geneated has the following numbered sentences ---->>\\n {0}\".format(summary))\n",
        " analyzedfile_obj.write(\"\\n\\n ***** The sentences not included in summary are these numbers---->>{0}\".format(not_in_summary))\n",
        "  \n",
        " \n",
        "  #store the summary in file\n",
        " summary_filename='system-temp-{0}.txt'.format(str(percent))\n",
        "    #to give name tosummary file for storing percent based results\n",
        "  #format is  original file name -system-<percent> Ex:- news1-system-50\n",
        "  \n",
        " with io.open(summary_filename,'w',encoding='utf-8') as w: \n",
        "    for i in summary_lines:\n",
        "      w.write(i)\n",
        "      \n",
        "      \n",
        "  \n",
        "  ###########step5#############\n",
        "  ########### Post Processing ######\n",
        " resultfilename=\"system_summary_TF+stopwordr+stem_\"+filename\n",
        " #post_process(summary_filename,summary_filename)#do the post processing and write in result file, remove adj and adv from final file\n",
        " \n",
        " post_process_witout_wordnet(summary_filename,summary_filename) #doint post processing without using wordnet to remove adj and adverbs\n",
        " with io.open(summary_filename,'r',encoding='utf-8') as r: \n",
        "         lines=r.read()\n",
        " corp,count=guj_corpus_generate(summary_filename)      \n",
        " with io.open(resultfilename,'w',encoding='utf-8') as w:          \n",
        "         for line in corp:\n",
        "           w.write(line)\n",
        "           w.write('\\n')\n",
        "################# ######Step6#############################\n",
        "\n",
        "################ Evaluate summary  #################\n",
        " guj_remove_newlines(norm_gold_file,norm_gold_file)\n",
        " \n",
        " guj_remove_newlines(summary_filename,summary_filename)\n",
        " rougescores=evalate_files(norm_gold_file,summary_filename)#get the evaluation of generated summary after post processing based on rouge score\n",
        " for key in rougescores.keys():\n",
        "     resultlist.append(\"%s,%s\"%(key,rougescores[key]))\n",
        " resultvar.writerow(resultlist)   \n",
        " analyzedfile_obj.write(\"\\n **********************Rouge scores based analysis for {0} % extraction is as follows*********************** \".format(percent))\n",
        " analyzedfile_obj.write(\"\\n\\n The rouge scores on summary file are \\n {0}\".format(rougescores,2)) #store the results \n",
        " basicfile=\"original.txt\"\n",
        "  #guj_clean_text(filename,basicfile) # Get the original file in cleaned form for computing compression ratio. \n",
        " guj_remove_newlines(filename,basicfile) \n",
        "  \n",
        " sent_compression,word_compression,totaloriginalsentences,totaloriginalwords,totalsumsentences,totalsumwords=compression_statistics(summary_filename,basicfile) #to store the compression ratio analysis\n",
        " analyzedfile_obj.write(\"\\n **********************Compression Analysis at {0} % extraction is as follows(based on original file) *********************** \".format(percent))\n",
        " analyzedfile_obj.write(\"\\n Total sentences in original text were {0} \".format(totaloriginalsentences)) \n",
        " analyzedfile_obj.write(\"\\n Total sentences in summary text are {0} \".format(totalsumsentences))\n",
        " analyzedfile_obj.write(\"\\n Sentences compression ratio is {0} \\n\".format(sent_compression,2))\n",
        " analyzedfile_obj.write(\" \\n\\n Total words in original text were {0} \".format(totaloriginalwords))\n",
        " analyzedfile_obj.write(\" \\n total words in summary text are {0} \".format(totalsumwords))\n",
        " analyzedfile_obj.write(\"\\n Words compression ratio is {0} \".format(word_compression,2)) \n",
        "\n",
        "  \n",
        " data = {'filename':[filename],\n",
        "          'totaloriginalsentences':[totaloriginalsentences],\n",
        "          'totalsumsentences':[totalsumsentences],\n",
        "           'sent_compression':[sent_compression],\n",
        "           'totaloriginalwords':[totaloriginalwords],\n",
        "           'totalsumwords':[totalsumwords],\n",
        "          'word_compression':[word_compression],\n",
        "           'words_before_stopword_removal':[words_before_stopword_removal],\n",
        "          'words_before_stemming':[words_before_stemming],\n",
        "          'words_after_stemming':[words_after_stemming],\n",
        "         'words_after_lemma':[words_after_lemma],\n",
        "         'top_features':[str(tokens)],\n",
        "         'Total_features':[str(len(tokens))]\n",
        "          }\n",
        "        \n",
        " df1=pd.DataFrame(data)\n",
        " df1.to_csv(filename_statistics,mode='a',header=False) "
      ],
      "execution_count": 8,
      "outputs": [
        {
          "output_type": "stream",
          "text": [
            "{'rouge-1': {'f': 0.7756097510994646, 'p': 0.7910447761194029, 'r': 0.7607655502392344}, 'rouge-2': {'f': 0.704156474219517, 'p': 0.7182044887780549, 'r': 0.6906474820143885}, 'rouge-l': {'f': 0.7953488322275826, 'p': 0.8465346534653465, 'r': 0.75}}\n"
          ],
          "name": "stdout"
        }
      ]
    },
    {
      "cell_type": "code",
      "metadata": {
        "id": "Wix3MhE06QRs"
      },
      "source": [
        "analyzedfile_obj.close()\n",
        "\n",
        "rougescorefilehandle.close()"
      ],
      "execution_count": 9,
      "outputs": []
    },
    {
      "cell_type": "code",
      "metadata": {
        "id": "BIkTziH05hLV",
        "colab": {
          "base_uri": "https://localhost:8080/",
          "height": 52
        },
        "outputId": "eaf8499d-f7ed-43d4-b69a-1298f4f170ff"
      },
      "source": [
        "## code to download all data at end of execution .Uncomment it after all experiments done. \n",
        "\"\"\"\n",
        "from google.colab import files\n",
        "\n",
        "!zip -r /content/txtfiles.zip *.txt\n",
        "files.download(\"txtfiles.zip\")\n",
        "!zip -r /content/csvfiles.zip *.csv\n",
        "files.download(\"csvfiles.zip\")\n",
        "!zip -r /content/codesfiles.zip *.py\n",
        "files.download(\"codesfiles.zip\")\n",
        "\"\"\"\n"
      ],
      "execution_count": 10,
      "outputs": [
        {
          "output_type": "execute_result",
          "data": {
            "application/vnd.google.colaboratory.intrinsic+json": {
              "type": "string"
            },
            "text/plain": [
              "'\\nfrom google.colab import files\\n\\n!zip -r /content/txtfiles.zip *.txt\\nfiles.download(\"txtfiles.zip\")\\n!zip -r /content/csvfiles.zip *.csv\\nfiles.download(\"csvfiles.zip\")\\n!zip -r /content/codesfiles.zip *.py\\nfiles.download(\"codesfiles.zip\")\\n'"
            ]
          },
          "metadata": {
            "tags": []
          },
          "execution_count": 10
        }
      ]
    }
  ]
}