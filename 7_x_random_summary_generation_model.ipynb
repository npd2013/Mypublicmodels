{
  "nbformat": 4,
  "nbformat_minor": 0,
  "metadata": {
    "colab": {
      "name": "7.x- random summary generation model ",
      "provenance": [],
      "collapsed_sections": [],
      "mount_file_id": "1tgvRcCr3kiUuAmiPrIrA3C3Q7b30km68",
      "authorship_tag": "ABX9TyPk3aRI4r6GAIg/Vuumv3We",
      "include_colab_link": true
    },
    "kernelspec": {
      "display_name": "Python 3",
      "name": "python3"
    }
  },
  "cells": [
    {
      "cell_type": "markdown",
      "metadata": {
        "id": "view-in-github",
        "colab_type": "text"
      },
      "source": [
        "<a href=\"https://colab.research.google.com/github/npd2013/Mypublicmodels/blob/main/7_x_random_summary_generation_model.ipynb\" target=\"_parent\"><img src=\"https://colab.research.google.com/assets/colab-badge.svg\" alt=\"Open In Colab\"/></a>"
      ]
    },
    {
      "cell_type": "code",
      "metadata": {
        "colab": {
          "base_uri": "https://localhost:8080/"
        },
        "id": "aeLGOonUpR4z",
        "outputId": "88070734-1c4c-458e-8b8b-8eaf6d0e89ec"
      },
      "source": [
        "#install needed packages \n",
        "#!pip install  gensim  #has word2vec model built, using english \n",
        "\n",
        "!pip install rouge\n",
        "!pip install indic-nlp-library\n"
      ],
      "execution_count": null,
      "outputs": [
        {
          "output_type": "stream",
          "text": [
            "Requirement already satisfied: rouge in /usr/local/lib/python3.7/dist-packages (1.0.0)\n",
            "Requirement already satisfied: six in /usr/local/lib/python3.7/dist-packages (from rouge) (1.15.0)\n",
            "Requirement already satisfied: indic-nlp-library in /usr/local/lib/python3.7/dist-packages (0.71)\n",
            "Requirement already satisfied: pandas in /usr/local/lib/python3.7/dist-packages (from indic-nlp-library) (1.1.5)\n",
            "Requirement already satisfied: numpy in /usr/local/lib/python3.7/dist-packages (from indic-nlp-library) (1.19.5)\n",
            "Requirement already satisfied: morfessor in /usr/local/lib/python3.7/dist-packages (from indic-nlp-library) (2.0.6)\n",
            "Requirement already satisfied: python-dateutil>=2.7.3 in /usr/local/lib/python3.7/dist-packages (from pandas->indic-nlp-library) (2.8.1)\n",
            "Requirement already satisfied: pytz>=2017.2 in /usr/local/lib/python3.7/dist-packages (from pandas->indic-nlp-library) (2018.9)\n",
            "Requirement already satisfied: six>=1.5 in /usr/local/lib/python3.7/dist-packages (from python-dateutil>=2.7.3->pandas->indic-nlp-library) (1.15.0)\n"
          ],
          "name": "stdout"
        }
      ]
    },
    {
      "cell_type": "code",
      "metadata": {
        "id": "7XlBVjZMvCPA",
        "colab": {
          "resources": {
            "http://localhost:8080/nbextensions/google.colab/files.js": {
              "data": "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",
              "ok": true,
              "headers": [
                [
                  "content-type",
                  "application/javascript"
                ]
              ],
              "status": 200,
              "status_text": ""
            }
          },
          "base_uri": "https://localhost:8080/",
          "height": 39
        },
        "outputId": "4eac5b61-22d6-41da-80e3-e603cfff2b51"
      },
      "source": [
        "from google.colab import files #upload the files from local machine on the colab environment \n",
        "uploaded = files.upload()\n"
      ],
      "execution_count": null,
      "outputs": [
        {
          "output_type": "display_data",
          "data": {
            "text/html": [
              "\n",
              "     <input type=\"file\" id=\"files-a23e9a08-cdb5-4ca5-84b9-c0aa6117a28d\" name=\"files[]\" multiple disabled\n",
              "        style=\"border:none\" />\n",
              "     <output id=\"result-a23e9a08-cdb5-4ca5-84b9-c0aa6117a28d\">\n",
              "      Upload widget is only available when the cell has been executed in the\n",
              "      current browser session. Please rerun this cell to enable.\n",
              "      </output>\n",
              "      <script src=\"/nbextensions/google.colab/files.js\"></script> "
            ],
            "text/plain": [
              "<IPython.core.display.HTML object>"
            ]
          },
          "metadata": {
            "tags": []
          }
        }
      ]
    },
    {
      "cell_type": "code",
      "metadata": {
        "id": "A7gUXWZMwb6D"
      },
      "source": [
        "!cp \"/content/drive/My Drive/Colab Notebooks/guj_final_preporcess-v6.py\" \"guj_final_preporcess.py\" #The preprocessing modules designed\n",
        "!cp \"/content/drive/My Drive/Colab Notebooks/Evaluation.py\" \"Evaluation.py\"   # the evaluation module designed\n"
      ],
      "execution_count": null,
      "outputs": []
    },
    {
      "cell_type": "code",
      "metadata": {
        "id": "Jo4oVUa5g9D-"
      },
      "source": [
        "import io\n",
        "import csv\n",
        "from Evaluation import *\n",
        "import random\n",
        "\n",
        "import pandas as pd \n",
        "from guj_final_preporcess import * #to get the required preporcessing modules -from self made pipeline\n"
      ],
      "execution_count": null,
      "outputs": []
    },
    {
      "cell_type": "code",
      "metadata": {
        "id": "gu3f_IRUd2NW",
        "colab": {
          "base_uri": "https://localhost:8080/"
        },
        "outputId": "797da319-fc53-4874-ad53-ccfd089935fd"
      },
      "source": [
        "#take all the needed inputs from user \n",
        "basename=input('Enter the basic name of file(without txt),other names wud be autogenerated  ')\n",
        "filename=basename+'.txt'\n",
        "gold_filename=basename+'-gold.txt'\n",
        "\n",
        "summary_filename=basename+'-randomsummary.txt' # example file1-gold-system-summary.txt\n",
        "analysefile_name=basename+'-analysis-randomsummary.txt'\n",
        "rougescorefile=\"Rougeresults--randomsummarygeneration .csv\"\n"
      ],
      "execution_count": null,
      "outputs": [
        {
          "output_type": "stream",
          "text": [
            "Enter the basic name of file(without txt),other names wud be autogenerated  story50\n"
          ],
          "name": "stdout"
        }
      ]
    },
    {
      "cell_type": "code",
      "metadata": {
        "id": "jZfHoaVCaViy"
      },
      "source": [
        "#read the input original file . \n",
        "\n",
        "guj_clean_html(filename,filename)# text cleaning remove the html tags and overwrite the original file \n",
        "guj_clean_html(gold_filename,gold_filename)# clean the html tags from gold file \n",
        "\n",
        "\n",
        "guj_clean_extra(filename,filename)#remove the extra symbols like multiple punctuations and overwrite original file\n",
        "guj_clean_extra(gold_filename,gold_filename)\n",
        "\n",
        "#Display the given data in input files \n",
        "with io.open(filename,'r',encoding='utf-8') as f: \n",
        "\t\t  lines=f.read()#get all the lines from file\n",
        "analyzedfile_obj=open(analysefile_name,mode='w',encoding='UTF-8')\n",
        "analyzedfile_obj.write(\"\\n\\n The original file is :------\\n\")\n",
        "analyzedfile_obj.write(lines)\n",
        "\n",
        "with io.open(gold_filename,'r',encoding='utf-8') as f: \n",
        "\t\t  lines=f.read()#get all the lines from file\n",
        "\n",
        "analyzedfile_obj.write(\"\\n\\n The gold summary provided by expert  is -->\\n\")    \n",
        "analyzedfile_obj.write(lines)\n",
        "\n",
        "\n",
        "###################################################################\n",
        "########################  Step-1 ##################################\n",
        "#####################  cleaning phase  ########################\n",
        "\n",
        "#doing cleaning of file \n",
        "#remove newlines and other unnecessary data and clean it for feature extraction \n",
        "#to replace the data as per our format, replacing abbreviations dot with '*'\n",
        "normfile=\"temp1.txt\"\n",
        "norm_gold_file=\"temp2.txt\"\n",
        "\n",
        "\n",
        "guj_clean_text(filename,normfile) \n",
        "\n",
        "guj_clean_text(gold_filename,norm_gold_file)\n",
        "\n",
        "#Now display the stats and make corpora after cleaning file and removing new lines . \n",
        "normcorpora,totalnormsentences=guj_corpus_generate(normfile)  \n",
        "goldcorpora,totalnormgoldsentences=guj_corpus_generate(norm_gold_file) \n",
        "\n"
      ],
      "execution_count": null,
      "outputs": []
    },
    {
      "cell_type": "code",
      "metadata": {
        "id": "6NhW25DXfWop",
        "colab": {
          "base_uri": "https://localhost:8080/"
        },
        "outputId": "e24f3484-e594-4cba-808e-4cefdb1aaa4b"
      },
      "source": [
        " rougescorefilehandle=open(rougescorefile,mode='a',encoding=\"utf-8\") #to store only the rouge scores for later analysis \n",
        " resultvar = csv.writer(rougescorefilehandle, lineterminator='\\n')\t\t#to store new row for each f  \n",
        "\n",
        "\n",
        "################# ######Step4#############################\n",
        "################ Find top sentences  #################\n",
        "\n",
        "#rank and sort the sentences  based on individual sentences score \n",
        "\n",
        " percent=(totalnormgoldsentences/totalnormsentences)*100 #ideal ratio as per gold text given \n",
        " n=totalnormgoldsentences#extract sentences as per total sentences in gold summary \n",
        "\n",
        " resultlist=[]#to store the rouge score data\n",
        "\n",
        " resultlist.append(filename+\",\") #mention the source file name for record\n",
        " \n",
        " \n",
        "  ##########################################################\n",
        "################# ######Step6#############################\n",
        "################ Generate summary  #################\n",
        "##########################################################\n",
        " summary_random_numbers=[] #store the random sentence numbers to be put in summary \n",
        "\n",
        " summary_random_numbers=random.sample(range(1, totalnormsentences), n) #get n random numbers to map to sentence numbers  \n",
        " print(summary_random_numbers)\n",
        " linenumber=0\n",
        "\n",
        " with io.open(summary_filename,'w',encoding='utf-8') as w: \n",
        "  for sent in normcorpora:\n",
        "   \n",
        "   if linenumber  in summary_random_numbers:\n",
        "     w.write(sent)\n",
        "     w.write(\"\\n\")\n",
        "   linenumber+=1 #increment line number when referening next line from corpora\n",
        "     \n",
        "\n",
        " analyzedfile_obj.write(\"\\n\\n ***** The summary geneated has the following random numbered sentences ---->>\\n {0}\".format(summary_random_numbers))\n",
        " \n",
        "  \n",
        "norm_summary_filename=\"t.txt\"\n",
        "    \n",
        "################ Evaluate summary  #################\n",
        " guj_remove_newlines(norm_gold_file,norm_gold_file)\n",
        " guj_remove_newlines(summary_filename,norm_summary_filename)\n",
        " rougescores=evalate_files(norm_gold_file,norm_summary_filename)#get the evaluation of generated summary after post processing based on rouge score\n",
        " for key in rougescores.keys():\n",
        "     resultlist.append(\"%s,%s\"%(key,rougescores[key]))\n",
        " resultvar.writerow(resultlist)   \n",
        " analyzedfile_obj.write(\"\\n **********************Rouge scores based analysis for {0} % extraction is as follows*********************** \".format(percent))\n",
        " analyzedfile_obj.write(\"\\n\\n The rouge scores on summary file are \\n {0}\".format(rougescores,2)) #store the results \n",
        " basicfile=\"original.txt\"\n",
        "  #guj_clean_text(filename,basicfile) # Get the original file in cleaned form for computing compression ratio. \n",
        " guj_remove_newlines(filename,basicfile) \n",
        "  \n",
        " sent_compression,word_compression,totaloriginalsentences,totaloriginalwords,totalsumsentences,totalsumwords=compression_statistics(summary_filename,basicfile) #to store the compression ratio analysis\n",
        " analyzedfile_obj.write(\"\\n **********************Compression Analysis at {0} % extraction is as follows(based on original file) *********************** \".format(percent))\n",
        " analyzedfile_obj.write(\"\\n Total sentences in original text were {0} \".format(totaloriginalsentences)) \n",
        " analyzedfile_obj.write(\"\\n Total sentences in summary text are {0} \".format(totalsumsentences))\n",
        " analyzedfile_obj.write(\"\\n Sentences compression ratio is {0} \\n\".format(sent_compression,2))\n",
        " analyzedfile_obj.write(\" \\n\\n Total words in original text were {0} \".format(totaloriginalwords))\n",
        " analyzedfile_obj.write(\" \\n total words in summary text are {0} \".format(totalsumwords))\n",
        " analyzedfile_obj.write(\"\\n Words compression ratio is {0} \".format(word_compression,2)) \n",
        "\n"
      ],
      "execution_count": null,
      "outputs": [
        {
          "output_type": "stream",
          "text": [
            "[24, 45, 33, 16, 20, 6, 42, 71, 23, 51, 75, 81, 11, 39, 76, 32, 41, 25, 4, 63, 72, 77, 60, 80, 9, 66, 61, 12, 34, 56, 52, 30, 57, 58, 19, 35, 44, 13, 10, 47, 3, 79, 67, 31, 21, 54, 59, 65, 8, 28, 46, 14, 15, 18, 22, 68, 36, 17, 26, 5, 40, 48, 2, 73, 37, 38, 82, 74]\n",
            "{'rouge-1': {'f': 0.8707753429133176, 'p': 0.8599476439790575, 'r': 0.8818791946308725}, 'rouge-2': {'f': 0.8400796234015911, 'p': 0.8296199213630406, 'r': 0.8508064516129032}, 'rouge-l': {'f': 0.8855721343034876, 'p': 0.8864541832669323, 'r': 0.8846918489065606}}\n"
          ],
          "name": "stdout"
        },
        {
          "output_type": "execute_result",
          "data": {
            "text/plain": [
              "48"
            ]
          },
          "metadata": {
            "tags": []
          },
          "execution_count": 338
        }
      ]
    },
    {
      "cell_type": "code",
      "metadata": {
        "id": "Wix3MhE06QRs"
      },
      "source": [
        "analyzedfile_obj.close()\n",
        "\n",
        "rougescorefilehandle.close()"
      ],
      "execution_count": null,
      "outputs": []
    },
    {
      "cell_type": "code",
      "metadata": {
        "id": "BIkTziH05hLV",
        "colab": {
          "base_uri": "https://localhost:8080/",
          "height": 1000
        },
        "outputId": "04b6fb18-389f-4e3f-de1f-cc3aef84be14"
      },
      "source": [
        "## code to download all data at end of execution .Uncomment it after all experiments done. \n",
        "\n",
        "from google.colab import files\n",
        "\n",
        "!zip -r /content/txtfiles.zip *.txt\n",
        "files.download(\"txtfiles.zip\")\n",
        "!zip -r /content/csvfiles.zip *.csv\n",
        "files.download(\"csvfiles.zip\")\n",
        "!zip -r /content/codesfiles.zip *.py\n",
        "files.download(\"codesfiles.zip\")\n",
        "\n"
      ],
      "execution_count": null,
      "outputs": [
        {
          "output_type": "stream",
          "text": [
            "  adding: original.txt (deflated 76%)\n",
            "  adding: story10-analysis-randomsummary.txt (deflated 80%)\n",
            "  adding: story10-gold.txt (deflated 71%)\n",
            "  adding: story10-randomsummary.txt (deflated 72%)\n",
            "  adding: story10-topic.txt (deflated 17%)\n",
            "  adding: story10.txt (deflated 72%)\n",
            "  adding: story11-analysis-randomsummary.txt (deflated 82%)\n",
            "  adding: story11-gold.txt (deflated 75%)\n",
            "  adding: story11-randomsummary.txt (deflated 75%)\n",
            "  adding: story11-topic.txt (deflated 2%)\n",
            "  adding: story11.txt (deflated 76%)\n",
            "  adding: story12-analysis-randomsummary.txt (deflated 83%)\n",
            "  adding: story12-gold.txt (deflated 78%)\n",
            "  adding: story12-randomsummary.txt (deflated 76%)\n",
            "  adding: story12-topic.txt (deflated 6%)\n",
            "  adding: story12.txt (deflated 78%)\n",
            "  adding: story13-analysis-randomsummary.txt (deflated 83%)\n",
            "  adding: story13-gold.txt (deflated 77%)\n",
            "  adding: story13-randomsummary.txt (deflated 76%)\n",
            "  adding: story13-topic.txt (deflated 6%)\n",
            "  adding: story13.txt (deflated 77%)\n",
            "  adding: story14-analysis-randomsummary.txt (deflated 82%)\n",
            "  adding: story14-gold.txt (deflated 74%)\n",
            "  adding: story14-randomsummary.txt (deflated 73%)\n",
            "  adding: story14-topic.txt (deflated 4%)\n",
            "  adding: story14.txt (deflated 75%)\n",
            "  adding: story15-analysis-randomsummary.txt (deflated 80%)\n",
            "  adding: story15-gold.txt (deflated 73%)\n",
            "  adding: story15-randomsummary.txt (deflated 73%)\n",
            "  adding: story15-topic.txt (deflated 21%)\n",
            "  adding: story15.txt (deflated 75%)\n",
            "  adding: story16-analysis-randomsummary.txt (deflated 84%)\n",
            "  adding: story16-gold.txt (deflated 80%)\n",
            "  adding: story16-randomsummary.txt (deflated 77%)\n",
            "  adding: story16-topic.txt (deflated 37%)\n",
            "  adding: story16.txt (deflated 82%)\n",
            "  adding: story17-analysis-randomsummary.txt (deflated 82%)\n",
            "  adding: story17-gold.txt (deflated 74%)\n",
            "  adding: story17-randomsummary.txt (deflated 75%)\n",
            "  adding: story17-topic.txt (deflated 30%)\n",
            "  adding: story17.txt (deflated 75%)\n",
            "  adding: story18-analysis-randomsummary.txt (deflated 80%)\n",
            "  adding: story18-gold.txt (deflated 73%)\n",
            "  adding: story18-randomsummary.txt (deflated 73%)\n",
            "  adding: story18-topic.txt (deflated 23%)\n",
            "  adding: story18.txt (deflated 76%)\n",
            "  adding: story19-analysis-randomsummary.txt (deflated 80%)\n",
            "  adding: story19-gold.txt (deflated 73%)\n",
            "  adding: story19-randomsummary.txt (deflated 72%)\n",
            "  adding: story19-topic.txt (deflated 3%)\n",
            "  adding: story19.txt (deflated 74%)\n",
            "  adding: story1-analysis-randomsummary.txt (deflated 81%)\n",
            "  adding: story1-gold.txt (deflated 73%)\n",
            "  adding: story1-randomsummary.txt (deflated 72%)\n",
            "  adding: story1-topic.txt (stored 0%)\n",
            "  adding: story1.txt (deflated 76%)\n",
            "  adding: story20-analysis-randomsummary.txt (deflated 82%)\n",
            "  adding: story20-gold.txt (deflated 75%)\n",
            "  adding: story20-randomsummary.txt (deflated 77%)\n",
            "  adding: story20-topic.txt (deflated 32%)\n",
            "  adding: story20.txt (deflated 77%)\n",
            "  adding: story21-analysis-randomsummary.txt (deflated 83%)\n",
            "  adding: story21-gold.txt (deflated 75%)\n",
            "  adding: story21-randomsummary.txt (deflated 74%)\n",
            "  adding: story21-topic.txt (deflated 28%)\n",
            "  adding: story21.txt (deflated 76%)\n",
            "  adding: story22-analysis-randomsummary.txt (deflated 81%)\n",
            "  adding: story22-gold.txt (deflated 74%)\n",
            "  adding: story22-randomsummary.txt (deflated 76%)\n",
            "  adding: story22-topic.txt (deflated 5%)\n",
            "  adding: story22.txt (deflated 78%)\n",
            "  adding: story23-analysis-randomsummary.txt (deflated 81%)\n",
            "  adding: story23-gold.txt (deflated 74%)\n",
            "  adding: story23-randomsummary.txt (deflated 75%)\n",
            "  adding: story23-topic.txt (deflated 23%)\n",
            "  adding: story23.txt (deflated 77%)\n",
            "  adding: story24-analysis-randomsummary.txt (deflated 81%)\n",
            "  adding: story24-gold.txt (deflated 74%)\n",
            "  adding: story24-randomsummary.txt (deflated 73%)\n",
            "  adding: story24-topic.txt (deflated 6%)\n",
            "  adding: story24.txt (deflated 75%)\n",
            "  adding: story25-analysis-randomsummary.txt (deflated 82%)\n",
            "  adding: story25-gold.txt (deflated 75%)\n",
            "  adding: story25-randomsummary.txt (deflated 76%)\n",
            "  adding: story25-topic.txt (deflated 19%)\n",
            "  adding: story25.txt (deflated 77%)\n",
            "  adding: story26-analysis-randomsummary.txt (deflated 83%)\n",
            "  adding: story26-gold.txt (deflated 76%)\n",
            "  adding: story26-randomsummary.txt (deflated 76%)\n",
            "  adding: story26-topic.txt (stored 0%)\n",
            "  adding: story26.txt (deflated 77%)\n",
            "  adding: story27-analysis-randomsummary.txt (deflated 83%)\n",
            "  adding: story27-gold.txt (deflated 75%)\n",
            "  adding: story27-randomsummary.txt (deflated 75%)\n",
            "  adding: story27-topic.txt (deflated 23%)\n",
            "  adding: story27.txt (deflated 76%)\n",
            "  adding: story28-analysis-randomsummary.txt (deflated 83%)\n",
            "  adding: story28-gold.txt (deflated 76%)\n",
            "  adding: story28-randomsummary.txt (deflated 75%)\n",
            "  adding: story28-topic.txt (deflated 16%)\n",
            "  adding: story28.txt (deflated 77%)\n",
            "  adding: story29-analysis-randomsummary.txt (deflated 80%)\n",
            "  adding: story29-gold.txt (deflated 73%)\n",
            "  adding: story29-randomsummary.txt (deflated 71%)\n",
            "  adding: story29-topic.txt (deflated 6%)\n",
            "  adding: story29.txt (deflated 74%)\n",
            "  adding: story2-analysis-randomsummary.txt (deflated 82%)\n",
            "  adding: story2-gold.txt (deflated 74%)\n",
            "  adding: story2-randomsummary.txt (deflated 73%)\n",
            "  adding: story2-topic.txt (deflated 13%)\n",
            "  adding: story2.txt (deflated 76%)\n",
            "  adding: story30-analysis-randomsummary.txt (deflated 78%)\n",
            "  adding: story30-gold.txt (deflated 71%)\n",
            "  adding: story30-randomsummary.txt (deflated 71%)\n",
            "  adding: story30-topic.txt (deflated 4%)\n",
            "  adding: story30.txt (deflated 75%)\n",
            "  adding: story31-analysis-randomsummary.txt (deflated 82%)\n",
            "  adding: story31-gold.txt (deflated 74%)\n",
            "  adding: story31-randomsummary.txt (deflated 74%)\n",
            "  adding: story31-topic.txt (deflated 22%)\n",
            "  adding: story31.txt (deflated 77%)\n",
            "  adding: story32-analysis-randomsummary.txt (deflated 82%)\n",
            "  adding: story32-gold.txt (deflated 74%)\n",
            "  adding: story32-randomsummary.txt (deflated 75%)\n",
            "  adding: story32-topic.txt (deflated 43%)\n",
            "  adding: story32.txt (deflated 76%)\n",
            "  adding: story33-analysis-randomsummary.txt (deflated 81%)\n",
            "  adding: story33-gold.txt (deflated 76%)\n",
            "  adding: story33-randomsummary.txt (deflated 75%)\n",
            "  adding: story33-topic.txt (deflated 2%)\n",
            "  adding: story33.txt (deflated 77%)\n",
            "  adding: story34-analysis-randomsummary.txt (deflated 82%)\n",
            "  adding: story34-gold.txt (deflated 74%)\n",
            "  adding: story34-randomsummary.txt (deflated 74%)\n",
            "  adding: story34-topic.txt (deflated 13%)\n",
            "  adding: story34.txt (deflated 75%)\n",
            "  adding: story35-analysis-randomsummary.txt (deflated 82%)\n",
            "  adding: story35-gold.txt (deflated 77%)\n",
            "  adding: story35-randomsummary.txt (deflated 77%)\n",
            "  adding: story35-topic.txt (deflated 12%)\n",
            "  adding: story35.txt (deflated 78%)\n",
            "  adding: story36-analysis-randomsummary.txt (deflated 80%)\n",
            "  adding: story36-gold.txt (deflated 73%)\n",
            "  adding: story36-randomsummary.txt (deflated 71%)\n",
            "  adding: story36-topic.txt (deflated 10%)\n",
            "  adding: story36.txt (deflated 76%)\n",
            "  adding: story37-analysis-randomsummary.txt (deflated 81%)\n",
            "  adding: story37-gold.txt (deflated 75%)\n",
            "  adding: story37-randomsummary.txt (deflated 73%)\n",
            "  adding: story37-topic.txt (deflated 21%)\n",
            "  adding: story37.txt (deflated 76%)\n",
            "  adding: story38-analysis-randomsummary.txt (deflated 82%)\n",
            "  adding: story38-gold.txt (deflated 74%)\n",
            "  adding: story38-randomsummary.txt (deflated 73%)\n",
            "  adding: story38-topic.txt (deflated 23%)\n",
            "  adding: story38.txt (deflated 75%)\n",
            "  adding: story39-analysis-randomsummary.txt (deflated 82%)\n",
            "  adding: story39-gold.txt (deflated 75%)\n",
            "  adding: story39-randomsummary.txt (deflated 74%)\n",
            "  adding: story39-topic.txt (deflated 25%)\n",
            "  adding: story39.txt (deflated 76%)\n",
            "  adding: story3-analysis-randomsummary.txt (deflated 81%)\n",
            "  adding: story3-gold.txt (deflated 74%)\n",
            "  adding: story3-randomsummary.txt (deflated 74%)\n",
            "  adding: story3-topic.txt (stored 0%)\n",
            "  adding: story3.txt (deflated 75%)\n",
            "  adding: story40-analysis-randomsummary.txt (deflated 82%)\n",
            "  adding: story40-gold.txt (deflated 75%)\n",
            "  adding: story40-randomsummary.txt (deflated 75%)\n",
            "  adding: story40-topic.txt (deflated 24%)\n",
            "  adding: story40.txt (deflated 76%)\n",
            "  adding: story41-analysis-randomsummary.txt (deflated 82%)\n",
            "  adding: story41-gold.txt (deflated 75%)\n",
            "  adding: story41-randomsummary.txt (deflated 74%)\n",
            "  adding: story41-topic.txt (deflated 23%)\n",
            "  adding: story41.txt (deflated 76%)\n",
            "  adding: story42-analysis-randomsummary.txt (deflated 81%)\n",
            "  adding: story42-gold.txt (deflated 74%)\n",
            "  adding: story42-randomsummary.txt (deflated 73%)\n",
            "  adding: story42-topic.txt (deflated 16%)\n",
            "  adding: story42.txt (deflated 75%)\n",
            "  adding: story43-analysis-randomsummary.txt (deflated 81%)\n",
            "  adding: story43-gold.txt (deflated 75%)\n",
            "  adding: story43-randomsummary.txt (deflated 74%)\n",
            "  adding: story43-topic.txt (deflated 10%)\n",
            "  adding: story43.txt (deflated 77%)\n",
            "  adding: story44-analysis-randomsummary.txt (deflated 81%)\n",
            "  adding: story44-gold.txt (deflated 75%)\n",
            "  adding: story44-randomsummary.txt (deflated 74%)\n",
            "  adding: story44-topic.txt (deflated 3%)\n",
            "  adding: story44.txt (deflated 76%)\n",
            "  adding: story45-analysis-randomsummary.txt (deflated 82%)\n",
            "  adding: story45-gold.txt (deflated 75%)\n",
            "  adding: story45-randomsummary.txt (deflated 74%)\n",
            "  adding: story45-topic.txt (deflated 29%)\n",
            "  adding: story45.txt (deflated 75%)\n",
            "  adding: story46-analysis-randomsummary.txt (deflated 84%)\n",
            "  adding: story46-gold.txt (deflated 77%)\n",
            "  adding: story46-randomsummary.txt (deflated 77%)\n",
            "  adding: story46-topic.txt (deflated 32%)\n",
            "  adding: story46.txt (deflated 77%)\n",
            "  adding: story47-analysis-randomsummary.txt (deflated 80%)\n",
            "  adding: story47-gold.txt (deflated 72%)\n",
            "  adding: story47-randomsummary.txt (deflated 72%)\n",
            "  adding: story47-topic.txt (stored 0%)\n",
            "  adding: story47.txt (deflated 73%)\n",
            "  adding: story48-analysis-randomsummary.txt (deflated 82%)\n",
            "  adding: story48-gold.txt (deflated 75%)\n",
            "  adding: story48-randomsummary.txt (deflated 74%)\n",
            "  adding: story48-topic.txt (deflated 6%)\n",
            "  adding: story48.txt (deflated 76%)\n",
            "  adding: story49-analysis-randomsummary.txt (deflated 82%)\n",
            "  adding: story49-gold.txt (deflated 72%)\n",
            "  adding: story49-randomsummary.txt (deflated 72%)\n",
            "  adding: story49-topic.txt (deflated 5%)\n",
            "  adding: story49.txt (deflated 73%)\n",
            "  adding: story4-analysis-randomsummary.txt (deflated 81%)\n",
            "  adding: story4-gold.txt (deflated 74%)\n",
            "  adding: story4-randomsummary.txt (deflated 73%)\n",
            "  adding: story4-topic.txt (stored 0%)\n",
            "  adding: story4.txt (deflated 76%)\n",
            "  adding: story50-analysis-randomsummary.txt (deflated 83%)\n",
            "  adding: story50-gold.txt (deflated 75%)\n",
            "  adding: story50-randomsummary.txt (deflated 76%)\n",
            "  adding: story50-topic.txt (deflated 15%)\n",
            "  adding: story50.txt (deflated 76%)\n",
            "  adding: story5-analysis-randomsummary.txt (deflated 80%)\n",
            "  adding: story5-gold.txt (deflated 72%)\n",
            "  adding: story5-randomsummary.txt (deflated 72%)\n",
            "  adding: story5-topic.txt (stored 0%)\n",
            "  adding: story5.txt (deflated 73%)\n",
            "  adding: story6-analysis-randomsummary.txt (deflated 79%)\n",
            "  adding: story6-gold.txt (deflated 71%)\n",
            "  adding: story6-randomsummary.txt (deflated 71%)\n",
            "  adding: story6-topic.txt (deflated 6%)\n",
            "  adding: story6.txt (deflated 73%)\n",
            "  adding: story7-analysis-randomsummary.txt (deflated 81%)\n",
            "  adding: story7-gold.txt (deflated 74%)\n",
            "  adding: story7-randomsummary.txt (deflated 72%)\n",
            "  adding: story7-topic.txt (deflated 3%)\n",
            "  adding: story7.txt (deflated 76%)\n",
            "  adding: story8-analysis-randomsummary.txt (deflated 80%)\n",
            "  adding: story8-gold.txt (deflated 73%)\n",
            "  adding: story8-randomsummary.txt (deflated 72%)\n",
            "  adding: story8-topic.txt (deflated 4%)\n",
            "  adding: story8.txt (deflated 73%)\n",
            "  adding: story9-analysis-randomsummary.txt (deflated 79%)\n",
            "  adding: story9-gold.txt (deflated 73%)\n",
            "  adding: story9-randomsummary.txt (deflated 72%)\n",
            "  adding: story9-topic.txt (stored 0%)\n",
            "  adding: story9.txt (deflated 75%)\n",
            "  adding: temp1.txt (deflated 76%)\n",
            "  adding: temp2.txt (deflated 75%)\n",
            "  adding: t.txt (deflated 76%)\n"
          ],
          "name": "stdout"
        },
        {
          "output_type": "display_data",
          "data": {
            "application/javascript": [
              "\n",
              "    async function download(id, filename, size) {\n",
              "      if (!google.colab.kernel.accessAllowed) {\n",
              "        return;\n",
              "      }\n",
              "      const div = document.createElement('div');\n",
              "      const label = document.createElement('label');\n",
              "      label.textContent = `Downloading \"${filename}\": `;\n",
              "      div.appendChild(label);\n",
              "      const progress = document.createElement('progress');\n",
              "      progress.max = size;\n",
              "      div.appendChild(progress);\n",
              "      document.body.appendChild(div);\n",
              "\n",
              "      const buffers = [];\n",
              "      let downloaded = 0;\n",
              "\n",
              "      const channel = await google.colab.kernel.comms.open(id);\n",
              "      // Send a message to notify the kernel that we're ready.\n",
              "      channel.send({})\n",
              "\n",
              "      for await (const message of channel.messages) {\n",
              "        // Send a message to notify the kernel that we're ready.\n",
              "        channel.send({})\n",
              "        if (message.buffers) {\n",
              "          for (const buffer of message.buffers) {\n",
              "            buffers.push(buffer);\n",
              "            downloaded += buffer.byteLength;\n",
              "            progress.value = downloaded;\n",
              "          }\n",
              "        }\n",
              "      }\n",
              "      const blob = new Blob(buffers, {type: 'application/binary'});\n",
              "      const a = document.createElement('a');\n",
              "      a.href = window.URL.createObjectURL(blob);\n",
              "      a.download = filename;\n",
              "      div.appendChild(a);\n",
              "      a.click();\n",
              "      div.remove();\n",
              "    }\n",
              "  "
            ],
            "text/plain": [
              "<IPython.core.display.Javascript object>"
            ]
          },
          "metadata": {
            "tags": []
          }
        },
        {
          "output_type": "display_data",
          "data": {
            "application/javascript": [
              "download(\"download_b1e92de9-085e-42f6-a6d1-eb5ac402d99b\", \"txtfiles.zip\", 605487)"
            ],
            "text/plain": [
              "<IPython.core.display.Javascript object>"
            ]
          },
          "metadata": {
            "tags": []
          }
        },
        {
          "output_type": "stream",
          "text": [
            "  adding: Rougeresults--randomsummarygeneration .csv (deflated 68%)\n"
          ],
          "name": "stdout"
        },
        {
          "output_type": "display_data",
          "data": {
            "application/javascript": [
              "\n",
              "    async function download(id, filename, size) {\n",
              "      if (!google.colab.kernel.accessAllowed) {\n",
              "        return;\n",
              "      }\n",
              "      const div = document.createElement('div');\n",
              "      const label = document.createElement('label');\n",
              "      label.textContent = `Downloading \"${filename}\": `;\n",
              "      div.appendChild(label);\n",
              "      const progress = document.createElement('progress');\n",
              "      progress.max = size;\n",
              "      div.appendChild(progress);\n",
              "      document.body.appendChild(div);\n",
              "\n",
              "      const buffers = [];\n",
              "      let downloaded = 0;\n",
              "\n",
              "      const channel = await google.colab.kernel.comms.open(id);\n",
              "      // Send a message to notify the kernel that we're ready.\n",
              "      channel.send({})\n",
              "\n",
              "      for await (const message of channel.messages) {\n",
              "        // Send a message to notify the kernel that we're ready.\n",
              "        channel.send({})\n",
              "        if (message.buffers) {\n",
              "          for (const buffer of message.buffers) {\n",
              "            buffers.push(buffer);\n",
              "            downloaded += buffer.byteLength;\n",
              "            progress.value = downloaded;\n",
              "          }\n",
              "        }\n",
              "      }\n",
              "      const blob = new Blob(buffers, {type: 'application/binary'});\n",
              "      const a = document.createElement('a');\n",
              "      a.href = window.URL.createObjectURL(blob);\n",
              "      a.download = filename;\n",
              "      div.appendChild(a);\n",
              "      a.click();\n",
              "      div.remove();\n",
              "    }\n",
              "  "
            ],
            "text/plain": [
              "<IPython.core.display.Javascript object>"
            ]
          },
          "metadata": {
            "tags": []
          }
        },
        {
          "output_type": "display_data",
          "data": {
            "application/javascript": [
              "download(\"download_98d97a35-644d-41f9-b7a3-7231d029219a\", \"csvfiles.zip\", 5832)"
            ],
            "text/plain": [
              "<IPython.core.display.Javascript object>"
            ]
          },
          "metadata": {
            "tags": []
          }
        },
        {
          "output_type": "stream",
          "text": [
            "  adding: Evaluation.py (deflated 64%)\n",
            "  adding: guj_final_preporcess.py (deflated 75%)\n"
          ],
          "name": "stdout"
        },
        {
          "output_type": "display_data",
          "data": {
            "application/javascript": [
              "\n",
              "    async function download(id, filename, size) {\n",
              "      if (!google.colab.kernel.accessAllowed) {\n",
              "        return;\n",
              "      }\n",
              "      const div = document.createElement('div');\n",
              "      const label = document.createElement('label');\n",
              "      label.textContent = `Downloading \"${filename}\": `;\n",
              "      div.appendChild(label);\n",
              "      const progress = document.createElement('progress');\n",
              "      progress.max = size;\n",
              "      div.appendChild(progress);\n",
              "      document.body.appendChild(div);\n",
              "\n",
              "      const buffers = [];\n",
              "      let downloaded = 0;\n",
              "\n",
              "      const channel = await google.colab.kernel.comms.open(id);\n",
              "      // Send a message to notify the kernel that we're ready.\n",
              "      channel.send({})\n",
              "\n",
              "      for await (const message of channel.messages) {\n",
              "        // Send a message to notify the kernel that we're ready.\n",
              "        channel.send({})\n",
              "        if (message.buffers) {\n",
              "          for (const buffer of message.buffers) {\n",
              "            buffers.push(buffer);\n",
              "            downloaded += buffer.byteLength;\n",
              "            progress.value = downloaded;\n",
              "          }\n",
              "        }\n",
              "      }\n",
              "      const blob = new Blob(buffers, {type: 'application/binary'});\n",
              "      const a = document.createElement('a');\n",
              "      a.href = window.URL.createObjectURL(blob);\n",
              "      a.download = filename;\n",
              "      div.appendChild(a);\n",
              "      a.click();\n",
              "      div.remove();\n",
              "    }\n",
              "  "
            ],
            "text/plain": [
              "<IPython.core.display.Javascript object>"
            ]
          },
          "metadata": {
            "tags": []
          }
        },
        {
          "output_type": "display_data",
          "data": {
            "application/javascript": [
              "download(\"download_f7513444-4568-48e5-9c35-3afb2cb000f8\", \"codesfiles.zip\", 10607)"
            ],
            "text/plain": [
              "<IPython.core.display.Javascript object>"
            ]
          },
          "metadata": {
            "tags": []
          }
        }
      ]
    },
    {
      "cell_type": "code",
      "metadata": {
        "id": "uJXfPkX9SROo"
      },
      "source": [
        ""
      ],
      "execution_count": null,
      "outputs": []
    }
  ]
}