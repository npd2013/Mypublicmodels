{
  "nbformat": 4,
  "nbformat_minor": 0,
  "metadata": {
    "colab": {
      "name": "7.x- random summary generation model ",
      "provenance": [],
      "collapsed_sections": [],
      "mount_file_id": "1tgvRcCr3kiUuAmiPrIrA3C3Q7b30km68",
      "authorship_tag": "ABX9TyMLc5fk+iRQSuXRWIJ5B5u3",
      "include_colab_link": true
    },
    "kernelspec": {
      "display_name": "Python 3",
      "name": "python3"
    }
  },
  "cells": [
    {
      "cell_type": "markdown",
      "metadata": {
        "id": "view-in-github",
        "colab_type": "text"
      },
      "source": [
        "<a href=\"https://colab.research.google.com/github/npd2013/Mypublicmodels/blob/main/7_x_random_summary_generation_model.ipynb\" target=\"_parent\"><img src=\"https://colab.research.google.com/assets/colab-badge.svg\" alt=\"Open In Colab\"/></a>"
      ]
    },
    {
      "cell_type": "code",
      "metadata": {
        "colab": {
          "base_uri": "https://localhost:8080/"
        },
        "id": "aeLGOonUpR4z",
        "outputId": "073f5f10-1930-417e-ae40-ce977371b967"
      },
      "source": [
        "#install needed packages \n",
        "#!pip install  gensim  #has word2vec model built, using english \n",
        "\n",
        "!pip install rouge\n",
        "!pip install indic-nlp-library\n"
      ],
      "execution_count": 1,
      "outputs": [
        {
          "output_type": "stream",
          "text": [
            "Collecting rouge\n",
            "  Downloading https://files.pythonhosted.org/packages/43/cc/e18e33be20971ff73a056ebdb023476b5a545e744e3fc22acd8c758f1e0d/rouge-1.0.0-py3-none-any.whl\n",
            "Requirement already satisfied: six in /usr/local/lib/python3.7/dist-packages (from rouge) (1.15.0)\n",
            "Installing collected packages: rouge\n",
            "Successfully installed rouge-1.0.0\n",
            "Collecting indic-nlp-library\n",
            "  Downloading https://files.pythonhosted.org/packages/2f/51/f4e4542a226055b73a621ad442c16ae2c913d6b497283c99cae7a9661e6c/indic_nlp_library-0.71-py3-none-any.whl\n",
            "Requirement already satisfied: pandas in /usr/local/lib/python3.7/dist-packages (from indic-nlp-library) (1.1.5)\n",
            "Collecting morfessor\n",
            "  Downloading https://files.pythonhosted.org/packages/39/e6/7afea30be2ee4d29ce9de0fa53acbb033163615f849515c0b1956ad074ee/Morfessor-2.0.6-py3-none-any.whl\n",
            "Requirement already satisfied: numpy in /usr/local/lib/python3.7/dist-packages (from indic-nlp-library) (1.19.5)\n",
            "Requirement already satisfied: pytz>=2017.2 in /usr/local/lib/python3.7/dist-packages (from pandas->indic-nlp-library) (2018.9)\n",
            "Requirement already satisfied: python-dateutil>=2.7.3 in /usr/local/lib/python3.7/dist-packages (from pandas->indic-nlp-library) (2.8.1)\n",
            "Requirement already satisfied: six>=1.5 in /usr/local/lib/python3.7/dist-packages (from python-dateutil>=2.7.3->pandas->indic-nlp-library) (1.15.0)\n",
            "Installing collected packages: morfessor, indic-nlp-library\n",
            "Successfully installed indic-nlp-library-0.71 morfessor-2.0.6\n"
          ],
          "name": "stdout"
        }
      ]
    },
    {
      "cell_type": "code",
      "metadata": {
        "id": "7XlBVjZMvCPA",
        "colab": {
          "resources": {
            "http://localhost:8080/nbextensions/google.colab/files.js": {
              "data": "Ly8gQ29weXJpZ2h0IDIwMTcgR29vZ2xlIExMQwovLwovLyBMaWNlbnNlZCB1bmRlciB0aGUgQXBhY2hlIExpY2Vuc2UsIFZlcnNpb24gMi4wICh0aGUgIkxpY2Vuc2UiKTsKLy8geW91IG1heSBub3QgdXNlIHRoaXMgZmlsZSBleGNlcHQgaW4gY29tcGxpYW5jZSB3aXRoIHRoZSBMaWNlbnNlLgovLyBZb3UgbWF5IG9idGFpbiBhIGNvcHkgb2YgdGhlIExpY2Vuc2UgYXQKLy8KLy8gICAgICBodHRwOi8vd3d3LmFwYWNoZS5vcmcvbGljZW5zZXMvTElDRU5TRS0yLjAKLy8KLy8gVW5sZXNzIHJlcXVpcmVkIGJ5IGFwcGxpY2FibGUgbGF3IG9yIGFncmVlZCB0byBpbiB3cml0aW5nLCBzb2Z0d2FyZQovLyBkaXN0cmlidXRlZCB1bmRlciB0aGUgTGljZW5zZSBpcyBkaXN0cmlidXRlZCBvbiBhbiAiQVMgSVMiIEJBU0lTLAovLyBXSVRIT1VUIFdBUlJBTlRJRVMgT1IgQ09ORElUSU9OUyBPRiBBTlkgS0lORCwgZWl0aGVyIGV4cHJlc3Mgb3IgaW1wbGllZC4KLy8gU2VlIHRoZSBMaWNlbnNlIGZvciB0aGUgc3BlY2lmaWMgbGFuZ3VhZ2UgZ292ZXJuaW5nIHBlcm1pc3Npb25zIGFuZAovLyBsaW1pdGF0aW9ucyB1bmRlciB0aGUgTGljZW5zZS4KCi8qKgogKiBAZmlsZW92ZXJ2aWV3IEhlbHBlcnMgZm9yIGdvb2dsZS5jb2xhYiBQeXRob24gbW9kdWxlLgogKi8KKGZ1bmN0aW9uKHNjb3BlKSB7CmZ1bmN0aW9uIHNwYW4odGV4dCwgc3R5bGVBdHRyaWJ1dGVzID0ge30pIHsKICBjb25zdCBlbGVtZW50ID0gZG9jdW1lbnQuY3JlYXRlRWxlbWVudCgnc3BhbicpOwogIGVsZW1lbnQudGV4dENvbnRlbnQgPSB0ZXh0OwogIGZvciAoY29uc3Qga2V5IG9mIE9iamVjdC5rZXlzKHN0eWxlQXR0cmlidXRlcykpIHsKICAgIGVsZW1lbnQuc3R5bGVba2V5XSA9IHN0eWxlQXR0cmlidXRlc1trZXldOwogIH0KICByZXR1cm4gZWxlbWVudDsKfQoKLy8gTWF4IG51bWJlciBvZiBieXRlcyB3aGljaCB3aWxsIGJlIHVwbG9hZGVkIGF0IGEgdGltZS4KY29uc3QgTUFYX1BBWUxPQURfU0laRSA9IDEwMCAqIDEwMjQ7CgpmdW5jdGlvbiBfdXBsb2FkRmlsZXMoaW5wdXRJZCwgb3V0cHV0SWQpIHsKICBjb25zdCBzdGVwcyA9IHVwbG9hZEZpbGVzU3RlcChpbnB1dElkLCBvdXRwdXRJZCk7CiAgY29uc3Qgb3V0cHV0RWxlbWVudCA9IGRvY3VtZW50LmdldEVsZW1lbnRCeUlkKG91dHB1dElkKTsKICAvLyBDYWNoZSBzdGVwcyBvbiB0aGUgb3V0cHV0RWxlbWVudCB0byBtYWtlIGl0IGF2YWlsYWJsZSBmb3IgdGhlIG5leHQgY2FsbAogIC8vIHRvIHVwbG9hZEZpbGVzQ29udGludWUgZnJvbSBQeXRob24uCiAgb3V0cHV0RWxlbWVudC5zdGVwcyA9IHN0ZXBzOwoKICByZXR1cm4gX3VwbG9hZEZpbGVzQ29udGludWUob3V0cHV0SWQpOwp9CgovLyBUaGlzIGlzIHJvdWdobHkgYW4gYXN5bmMgZ2VuZXJhdG9yIChub3Qgc3VwcG9ydGVkIGluIHRoZSBicm93c2VyIHlldCksCi8vIHdoZXJlIHRoZXJlIGFyZSBtdWx0aXBsZSBhc3luY2hyb25vdXMgc3RlcHMgYW5kIHRoZSBQeXRob24gc2lkZSBpcyBnb2luZwovLyB0byBwb2xsIGZvciBjb21wbGV0aW9uIG9mIGVhY2ggc3RlcC4KLy8gVGhpcyB1c2VzIGEgUHJvbWlzZSB0byBibG9jayB0aGUgcHl0aG9uIHNpZGUgb24gY29tcGxldGlvbiBvZiBlYWNoIHN0ZXAsCi8vIHRoZW4gcGFzc2VzIHRoZSByZXN1bHQgb2YgdGhlIHByZXZpb3VzIHN0ZXAgYXMgdGhlIGlucHV0IHRvIHRoZSBuZXh0IHN0ZXAuCmZ1bmN0aW9uIF91cGxvYWRGaWxlc0NvbnRpbnVlKG91dHB1dElkKSB7CiAgY29uc3Qgb3V0cHV0RWxlbWVudCA9IGRvY3VtZW50LmdldEVsZW1lbnRCeUlkKG91dHB1dElkKTsKICBjb25zdCBzdGVwcyA9IG91dHB1dEVsZW1lbnQuc3RlcHM7CgogIGNvbnN0IG5leHQgPSBzdGVwcy5uZXh0KG91dHB1dEVsZW1lbnQubGFzdFByb21pc2VWYWx1ZSk7CiAgcmV0dXJuIFByb21pc2UucmVzb2x2ZShuZXh0LnZhbHVlLnByb21pc2UpLnRoZW4oKHZhbHVlKSA9PiB7CiAgICAvLyBDYWNoZSB0aGUgbGFzdCBwcm9taXNlIHZhbHVlIHRvIG1ha2UgaXQgYXZhaWxhYmxlIHRvIHRoZSBuZXh0CiAgICAvLyBzdGVwIG9mIHRoZSBnZW5lcmF0b3IuCiAgICBvdXRwdXRFbGVtZW50Lmxhc3RQcm9taXNlVmFsdWUgPSB2YWx1ZTsKICAgIHJldHVybiBuZXh0LnZhbHVlLnJlc3BvbnNlOwogIH0pOwp9CgovKioKICogR2VuZXJhdG9yIGZ1bmN0aW9uIHdoaWNoIGlzIGNhbGxlZCBiZXR3ZWVuIGVhY2ggYXN5bmMgc3RlcCBvZiB0aGUgdXBsb2FkCiAqIHByb2Nlc3MuCiAqIEBwYXJhbSB7c3RyaW5nfSBpbnB1dElkIEVsZW1lbnQgSUQgb2YgdGhlIGlucHV0IGZpbGUgcGlja2VyIGVsZW1lbnQuCiAqIEBwYXJhbSB7c3RyaW5nfSBvdXRwdXRJZCBFbGVtZW50IElEIG9mIHRoZSBvdXRwdXQgZGlzcGxheS4KICogQHJldHVybiB7IUl0ZXJhYmxlPCFPYmplY3Q+fSBJdGVyYWJsZSBvZiBuZXh0IHN0ZXBzLgogKi8KZnVuY3Rpb24qIHVwbG9hZEZpbGVzU3RlcChpbnB1dElkLCBvdXRwdXRJZCkgewogIGNvbnN0IGlucHV0RWxlbWVudCA9IGRvY3VtZW50LmdldEVsZW1lbnRCeUlkKGlucHV0SWQpOwogIGlucHV0RWxlbWVudC5kaXNhYmxlZCA9IGZhbHNlOwoKICBjb25zdCBvdXRwdXRFbGVtZW50ID0gZG9jdW1lbnQuZ2V0RWxlbWVudEJ5SWQob3V0cHV0SWQpOwogIG91dHB1dEVsZW1lbnQuaW5uZXJIVE1MID0gJyc7CgogIGNvbnN0IHBpY2tlZFByb21pc2UgPSBuZXcgUHJvbWlzZSgocmVzb2x2ZSkgPT4gewogICAgaW5wdXRFbGVtZW50LmFkZEV2ZW50TGlzdGVuZXIoJ2NoYW5nZScsIChlKSA9PiB7CiAgICAgIHJlc29sdmUoZS50YXJnZXQuZmlsZXMpOwogICAgfSk7CiAgfSk7CgogIGNvbnN0IGNhbmNlbCA9IGRvY3VtZW50LmNyZWF0ZUVsZW1lbnQoJ2J1dHRvbicpOwogIGlucHV0RWxlbWVudC5wYXJlbnRFbGVtZW50LmFwcGVuZENoaWxkKGNhbmNlbCk7CiAgY2FuY2VsLnRleHRDb250ZW50ID0gJ0NhbmNlbCB1cGxvYWQnOwogIGNvbnN0IGNhbmNlbFByb21pc2UgPSBuZXcgUHJvbWlzZSgocmVzb2x2ZSkgPT4gewogICAgY2FuY2VsLm9uY2xpY2sgPSAoKSA9PiB7CiAgICAgIHJlc29sdmUobnVsbCk7CiAgICB9OwogIH0pOwoKICAvLyBXYWl0IGZvciB0aGUgdXNlciB0byBwaWNrIHRoZSBmaWxlcy4KICBjb25zdCBmaWxlcyA9IHlpZWxkIHsKICAgIHByb21pc2U6IFByb21pc2UucmFjZShbcGlja2VkUHJvbWlzZSwgY2FuY2VsUHJvbWlzZV0pLAogICAgcmVzcG9uc2U6IHsKICAgICAgYWN0aW9uOiAnc3RhcnRpbmcnLAogICAgfQogIH07CgogIGNhbmNlbC5yZW1vdmUoKTsKCiAgLy8gRGlzYWJsZSB0aGUgaW5wdXQgZWxlbWVudCBzaW5jZSBmdXJ0aGVyIHBpY2tzIGFyZSBub3QgYWxsb3dlZC4KICBpbnB1dEVsZW1lbnQuZGlzYWJsZWQgPSB0cnVlOwoKICBpZiAoIWZpbGVzKSB7CiAgICByZXR1cm4gewogICAgICByZXNwb25zZTogewogICAgICAgIGFjdGlvbjogJ2NvbXBsZXRlJywKICAgICAgfQogICAgfTsKICB9CgogIGZvciAoY29uc3QgZmlsZSBvZiBmaWxlcykgewogICAgY29uc3QgbGkgPSBkb2N1bWVudC5jcmVhdGVFbGVtZW50KCdsaScpOwogICAgbGkuYXBwZW5kKHNwYW4oZmlsZS5uYW1lLCB7Zm9udFdlaWdodDogJ2JvbGQnfSkpOwogICAgbGkuYXBwZW5kKHNwYW4oCiAgICAgICAgYCgke2ZpbGUudHlwZSB8fCAnbi9hJ30pIC0gJHtmaWxlLnNpemV9IGJ5dGVzLCBgICsKICAgICAgICBgbGFzdCBtb2RpZmllZDogJHsKICAgICAgICAgICAgZmlsZS5sYXN0TW9kaWZpZWREYXRlID8gZmlsZS5sYXN0TW9kaWZpZWREYXRlLnRvTG9jYWxlRGF0ZVN0cmluZygpIDoKICAgICAgICAgICAgICAgICAgICAgICAgICAgICAgICAgICAgJ24vYSd9IC0gYCkpOwogICAgY29uc3QgcGVyY2VudCA9IHNwYW4oJzAlIGRvbmUnKTsKICAgIGxpLmFwcGVuZENoaWxkKHBlcmNlbnQpOwoKICAgIG91dHB1dEVsZW1lbnQuYXBwZW5kQ2hpbGQobGkpOwoKICAgIGNvbnN0IGZpbGVEYXRhUHJvbWlzZSA9IG5ldyBQcm9taXNlKChyZXNvbHZlKSA9PiB7CiAgICAgIGNvbnN0IHJlYWRlciA9IG5ldyBGaWxlUmVhZGVyKCk7CiAgICAgIHJlYWRlci5vbmxvYWQgPSAoZSkgPT4gewogICAgICAgIHJlc29sdmUoZS50YXJnZXQucmVzdWx0KTsKICAgICAgfTsKICAgICAgcmVhZGVyLnJlYWRBc0FycmF5QnVmZmVyKGZpbGUpOwogICAgfSk7CiAgICAvLyBXYWl0IGZvciB0aGUgZGF0YSB0byBiZSByZWFkeS4KICAgIGxldCBmaWxlRGF0YSA9IHlpZWxkIHsKICAgICAgcHJvbWlzZTogZmlsZURhdGFQcm9taXNlLAogICAgICByZXNwb25zZTogewogICAgICAgIGFjdGlvbjogJ2NvbnRpbnVlJywKICAgICAgfQogICAgfTsKCiAgICAvLyBVc2UgYSBjaHVua2VkIHNlbmRpbmcgdG8gYXZvaWQgbWVzc2FnZSBzaXplIGxpbWl0cy4gU2VlIGIvNjIxMTU2NjAuCiAgICBsZXQgcG9zaXRpb24gPSAwOwogICAgd2hpbGUgKHBvc2l0aW9uIDwgZmlsZURhdGEuYnl0ZUxlbmd0aCkgewogICAgICBjb25zdCBsZW5ndGggPSBNYXRoLm1pbihmaWxlRGF0YS5ieXRlTGVuZ3RoIC0gcG9zaXRpb24sIE1BWF9QQVlMT0FEX1NJWkUpOwogICAgICBjb25zdCBjaHVuayA9IG5ldyBVaW50OEFycmF5KGZpbGVEYXRhLCBwb3NpdGlvbiwgbGVuZ3RoKTsKICAgICAgcG9zaXRpb24gKz0gbGVuZ3RoOwoKICAgICAgY29uc3QgYmFzZTY0ID0gYnRvYShTdHJpbmcuZnJvbUNoYXJDb2RlLmFwcGx5KG51bGwsIGNodW5rKSk7CiAgICAgIHlpZWxkIHsKICAgICAgICByZXNwb25zZTogewogICAgICAgICAgYWN0aW9uOiAnYXBwZW5kJywKICAgICAgICAgIGZpbGU6IGZpbGUubmFtZSwKICAgICAgICAgIGRhdGE6IGJhc2U2NCwKICAgICAgICB9LAogICAgICB9OwogICAgICBwZXJjZW50LnRleHRDb250ZW50ID0KICAgICAgICAgIGAke01hdGgucm91bmQoKHBvc2l0aW9uIC8gZmlsZURhdGEuYnl0ZUxlbmd0aCkgKiAxMDApfSUgZG9uZWA7CiAgICB9CiAgfQoKICAvLyBBbGwgZG9uZS4KICB5aWVsZCB7CiAgICByZXNwb25zZTogewogICAgICBhY3Rpb246ICdjb21wbGV0ZScsCiAgICB9CiAgfTsKfQoKc2NvcGUuZ29vZ2xlID0gc2NvcGUuZ29vZ2xlIHx8IHt9OwpzY29wZS5nb29nbGUuY29sYWIgPSBzY29wZS5nb29nbGUuY29sYWIgfHwge307CnNjb3BlLmdvb2dsZS5jb2xhYi5fZmlsZXMgPSB7CiAgX3VwbG9hZEZpbGVzLAogIF91cGxvYWRGaWxlc0NvbnRpbnVlLAp9Owp9KShzZWxmKTsK",
              "ok": true,
              "headers": [
                [
                  "content-type",
                  "application/javascript"
                ]
              ],
              "status": 200,
              "status_text": ""
            }
          },
          "base_uri": "https://localhost:8080/",
          "height": 140
        },
        "outputId": "07a9c506-be7c-4a8c-f761-a722361bc66e"
      },
      "source": [
        "from google.colab import files #upload the files from local machine on the colab environment \n",
        "uploaded = files.upload()\n"
      ],
      "execution_count": 2,
      "outputs": [
        {
          "output_type": "display_data",
          "data": {
            "text/html": [
              "\n",
              "     <input type=\"file\" id=\"files-8ee2b4f1-2132-438d-8af5-3964e0b015b6\" name=\"files[]\" multiple disabled\n",
              "        style=\"border:none\" />\n",
              "     <output id=\"result-8ee2b4f1-2132-438d-8af5-3964e0b015b6\">\n",
              "      Upload widget is only available when the cell has been executed in the\n",
              "      current browser session. Please rerun this cell to enable.\n",
              "      </output>\n",
              "      <script src=\"/nbextensions/google.colab/files.js\"></script> "
            ],
            "text/plain": [
              "<IPython.core.display.HTML object>"
            ]
          },
          "metadata": {
            "tags": []
          }
        },
        {
          "output_type": "stream",
          "text": [
            "Saving story51.txt to story51.txt\n",
            "Saving story51-gold.txt to story51-gold.txt\n",
            "Saving story51-topic.txt to story51-topic.txt\n"
          ],
          "name": "stdout"
        }
      ]
    },
    {
      "cell_type": "code",
      "metadata": {
        "id": "A7gUXWZMwb6D"
      },
      "source": [
        "!cp \"/content/drive/My Drive/Colab Notebooks/guj_final_preporcess-v6.py\" \"guj_final_preporcess.py\" #The preprocessing modules designed\n",
        "!cp \"/content/drive/My Drive/Colab Notebooks/Evaluation.py\" \"Evaluation.py\"   # the evaluation module designed\n"
      ],
      "execution_count": 3,
      "outputs": []
    },
    {
      "cell_type": "code",
      "metadata": {
        "id": "Jo4oVUa5g9D-"
      },
      "source": [
        "import io\n",
        "import csv\n",
        "from Evaluation import *\n",
        "import random\n",
        "\n",
        "import pandas as pd \n",
        "from guj_final_preporcess import * #to get the required preporcessing modules -from self made pipeline\n"
      ],
      "execution_count": 4,
      "outputs": []
    },
    {
      "cell_type": "code",
      "metadata": {
        "id": "gu3f_IRUd2NW",
        "colab": {
          "base_uri": "https://localhost:8080/"
        },
        "outputId": "163d81c1-6a3f-4ef8-c475-377cbfeb0927"
      },
      "source": [
        "#take all the needed inputs from user \n",
        "basename=input('Enter the basic name of file(without txt),other names wud be autogenerated  ')\n",
        "filename=basename+'.txt'\n",
        "gold_filename=basename+'-gold.txt'\n",
        "\n",
        "summary_filename=basename+'-randomsummary.txt' # example file1-gold-system-summary.txt\n",
        "analysefile_name=basename+'-analysis-randomsummary.txt'\n",
        "rougescorefile=\"Rougeresults--randomsummarygeneration .csv\"\n"
      ],
      "execution_count": 5,
      "outputs": [
        {
          "output_type": "stream",
          "text": [
            "Enter the basic name of file(without txt),other names wud be autogenerated  story51\n"
          ],
          "name": "stdout"
        }
      ]
    },
    {
      "cell_type": "code",
      "metadata": {
        "id": "jZfHoaVCaViy"
      },
      "source": [
        "#read the input original file . \n",
        "\n",
        "guj_clean_html(filename,filename)# text cleaning remove the html tags and overwrite the original file \n",
        "guj_clean_html(gold_filename,gold_filename)# clean the html tags from gold file \n",
        "\n",
        "\n",
        "guj_clean_extra(filename,filename)#remove the extra symbols like multiple punctuations and overwrite original file\n",
        "guj_clean_extra(gold_filename,gold_filename)\n",
        "\n",
        "\n",
        "\n",
        "\n",
        "\n",
        "#Display the given data in input files \n",
        "with io.open(filename,'r',encoding='utf-8') as f: \n",
        "\t\t  lines=f.read()#get all the lines from file\n",
        "analyzedfile_obj=open(analysefile_name,mode='w',encoding='UTF-8')\n",
        "analyzedfile_obj.write(\"\\n\\n The original file is :------\\n\")\n",
        "analyzedfile_obj.write(lines)\n",
        "\n",
        "with io.open(gold_filename,'r',encoding='utf-8') as f: \n",
        "\t\t  lines=f.read()#get all the lines from file\n",
        "\n",
        "analyzedfile_obj.write(\"\\n\\n The gold summary provided by expert  is -->\\n\")    \n",
        "analyzedfile_obj.write(lines)\n",
        "\n",
        "\n",
        "###################################################################\n",
        "########################  Step-1 ##################################\n",
        "#####################  cleaning phase  ########################\n",
        "\n",
        "#doing cleaning of file \n",
        "#remove newlines and other unnecessary data and clean it for feature extraction \n",
        "#to replace the data as per our format, replacing abbreviations dot with '*'\n",
        "normfile=\"temp1.txt\"\n",
        "norm_gold_file=\"temp2.txt\"\n",
        "\n",
        "\n",
        "guj_clean_text(filename,normfile) \n",
        "\n",
        "guj_clean_text(gold_filename,norm_gold_file)\n",
        "\n",
        "#Now display the stats and make corpora after cleaning file and removing new lines . \n",
        "normcorpora,totalnormsentences=guj_corpus_generate(normfile)  \n",
        "goldcorpora,totalnormgoldsentences=guj_corpus_generate(norm_gold_file) \n",
        "\n",
        "originalcorpora,totaloriginalsentences=guj_corpus_generate(normfile)\n",
        "sample='preprocessed.txt'\n",
        "linenumber=1\n",
        "with io.open(sample,'w',encoding='utf-8') as w: \n",
        " for sent in originalcorpora:\n",
        "   \n",
        "     w.write(str(linenumber)+')')\n",
        "     w.write(sent)\n",
        "     w.write(\"\\n\")\n",
        "     linenumber+=1 #increment line number when referening next line from corpora\n",
        "originalcorpora,totaloriginalsentences=guj_corpus_generate(filename)\n",
        "\n",
        " \n"
      ],
      "execution_count": 31,
      "outputs": []
    },
    {
      "cell_type": "code",
      "metadata": {
        "id": "6NhW25DXfWop",
        "colab": {
          "base_uri": "https://localhost:8080/"
        },
        "outputId": "6c57db9d-7222-4bf0-91c5-a7e51d3f25d5"
      },
      "source": [
        " rougescorefilehandle=open(rougescorefile,mode='a',encoding=\"utf-8\") #to store only the rouge scores for later analysis \n",
        " resultvar = csv.writer(rougescorefilehandle, lineterminator='\\n')\t\t#to store new row for each f  \n",
        "\n",
        "\n",
        "################# ######Step4#############################\n",
        "################ Find top sentences  #################\n",
        "\n",
        "#rank and sort the sentences  based on individual sentences score \n",
        "\n",
        " percent=(totalnormgoldsentences/totalnormsentences)*100 #ideal ratio as per gold text given \n",
        " n=totalnormgoldsentences#extract sentences as per total sentences in gold summary \n",
        "\n",
        " resultlist=[]#to store the rouge score data\n",
        "\n",
        " resultlist.append(filename+\",\") #mention the source file name for record\n",
        " \n",
        " \n",
        "  ##########################################################\n",
        "################# ######Step6#############################\n",
        "################ Generate summary  #################\n",
        "##########################################################\n",
        " summary_random_numbers=[] #store the random sentence numbers to be put in summary \n",
        "\n",
        " summary_random_numbers=random.sample(range(1, totalnormsentences), n) #get n random numbers to map to sentence numbers  \n",
        " print(summary_random_numbers)\n",
        " linenumber=0\n",
        "\n",
        " with io.open(summary_filename,'w',encoding='utf-8') as w: \n",
        "  for sent in normcorpora:\n",
        "   \n",
        "   if linenumber  in summary_random_numbers:\n",
        "     \n",
        "     w.write(str(linenumber)+')')\n",
        "     w.write(sent)\n",
        "     w.write(\"\\n\")\n",
        "   linenumber+=1 #increment line number when referening next line from corpora\n",
        "     \n",
        "\n",
        " analyzedfile_obj.write(\"\\n\\n ***** The summary geneated has the following random numbered sentences ---->>\\n {0}\".format(summary_random_numbers))\n",
        " \n",
        "  \n",
        "norm_summary_filename=\"t.txt\"\n",
        "    \n",
        "################ Evaluate summary  #################\n",
        " guj_remove_newlines(norm_gold_file,norm_gold_file)\n",
        " guj_remove_newlines(summary_filename,norm_summary_filename)\n",
        " rougescores=evalate_files(norm_gold_file,norm_summary_filename)#get the evaluation of generated summary after post processing based on rouge score\n",
        " for key in rougescores.keys():\n",
        "     resultlist.append(\"%s,%s\"%(key,rougescores[key]))\n",
        " resultvar.writerow(resultlist)   \n",
        " analyzedfile_obj.write(\"\\n **********************Rouge scores based analysis for {0} % extraction is as follows*********************** \".format(percent))\n",
        " analyzedfile_obj.write(\"\\n\\n The rouge scores on summary file are \\n {0}\".format(rougescores,2)) #store the results \n",
        " basicfile=\"original.txt\"\n",
        "  #guj_clean_text(filename,basicfile) # Get the original file in cleaned form for computing compression ratio. \n",
        " guj_remove_newlines(filename,basicfile) \n",
        "  \n",
        " sent_compression,word_compression,totaloriginalsentences,totaloriginalwords,totalsumsentences,totalsumwords=compression_statistics(summary_filename,basicfile) #to store the compression ratio analysis\n",
        " analyzedfile_obj.write(\"\\n **********************Compression Analysis at {0} % extraction is as follows(based on original file) *********************** \".format(percent))\n",
        " analyzedfile_obj.write(\"\\n Total sentences in original text were {0} \".format(totaloriginalsentences)) \n",
        " analyzedfile_obj.write(\"\\n Total sentences in summary text are {0} \".format(totalsumsentences))\n",
        " analyzedfile_obj.write(\"\\n Sentences compression ratio is {0} \\n\".format(sent_compression,2))\n",
        " analyzedfile_obj.write(\" \\n\\n Total words in original text were {0} \".format(totaloriginalwords))\n",
        " analyzedfile_obj.write(\" \\n total words in summary text are {0} \".format(totalsumwords))\n",
        " analyzedfile_obj.write(\"\\n Words compression ratio is {0} \".format(word_compression,2)) \n",
        "\n"
      ],
      "execution_count": 26,
      "outputs": [
        {
          "output_type": "stream",
          "text": [
            "[32, 30, 8, 7, 10, 14, 25, 35, 1, 17, 19, 9, 5, 24, 31, 11, 18, 29, 26, 28, 36, 6, 3, 33]\n",
            "sentence is એક વિજ્ઞાન શિક્ષક એમનું પૂરું નામ શૈલેષ કે ચૌહાણ.and sequence number is      0\n",
            "sentence is ધાર્મિક સ્વભાવ ના માણસ.and sequence number is      1\n",
            "sentence is kept in final summary \n",
            "sentence is એમનું મૂળ ગામ જૂનાગઢ જિલ્લા નું મેંદરડા.and sequence number is      2\n",
            "sentence is ચૌહાણ સાહેબ જૂનાગઢ ની પુલકિત માધ્યમિક શાળા નામ ની ગ્રાન્ટેડ હાઈસ્કૂલ માં શિક્ષક અને તેમની પત્ની \n",
            "સરકારી પ્રાથમિક શાળા માં શિક્ષક.and sequence number is      3\n",
            "sentence is kept in final summary \n",
            "sentence is શૈલેષ ના પિતા ડોક્ટર હતા પણ હવે ઉંમર વધી જવા ને કારણે હવે નિવૃત જીવન જીવી રહ્યા હતા.and sequence number is      4\n",
            "sentence is શૈલેષ ના પિતા ને જૂનાગઢ માં ફાવતું ન હતું.and sequence number is      5\n",
            "sentence is kept in final summary \n",
            "sentence is શૈલેષ ના પિતા એક પ્રકૃતિ પ્રેમી વ્યક્તિ હતા.and sequence number is      6\n",
            "sentence is kept in final summary \n",
            "sentence is તેમની ઉંમર લગભગ પિંચોતેર વર્ષ ની આસપાસ હતી.and sequence number is      7\n",
            "sentence is kept in final summary \n",
            "sentence is શૈલેષ ને નોકરી મળ્યા ને લગભગ વીસ વર્ષ થઇ ગયા હતા.and sequence number is      8\n",
            "sentence is kept in final summary \n",
            "sentence is શૈલેષભાઇ નો પુત્ર પણ હવે દસ માં ધોરણ માં ભણતો હતો.and sequence number is      9\n",
            "sentence is kept in final summary \n",
            "sentence is એવા માં એક દિવસ મેંદરડા થી ફોન આવ્યો અને શૈલેષભાઇ ને સમાચાર મળ્યા કે તેમના પિતા લપસી પડ્યા છે અને તેને કારણે ઇજા થઇ છે.and sequence number is      10\n",
            "sentence is kept in final summary \n",
            "sentence is મેંદરડા માં શૈલેષભાઈ ના પિતા ના ઘણા મિત્રો અને સબંધીઓ હતા કારણ કે તેઓ ભૂતકાળ માં ગામ ના નામાંકિત ડોક્ટર હતા અને અનેક લોકો ની બીમારી તેમણે દૂર\n",
            " કરી હતી.and sequence number is      11\n",
            "sentence is kept in final summary \n",
            "sentence is તેમની ફી પણ વ્યાજબી જ હતી તેઓ ગરીબો ની સારવાર મફત માં પણ કરી નાખતા.and sequence number is      12\n",
            "sentence is ઇમર્જન્સી માં કોઈ દર્દી ને જરૂર પડે તો દિવસ હોય કે રાત હોય ગમે ત્યારે દર્દી ના ઘરે જઈ ને પણ દર્દી ને યોગ્ય સારવાર પુરી પાડતા.and sequence number is      13\n",
            "sentence is ગામ ના લોકો પણ તેમના આ ઉપકાર ને જરા પણ ભૂલ્યા ન હતા.and sequence number is      14\n",
            "sentence is kept in final summary \n",
            "sentence is તેથી વૃદ્ધાવસ્થા માં એકલા રહેલા શૈલેષભાઇ ના પિતા નું ખુબ ધ્યાન રાખતા કારણ કે શૈલેષભાઇ ના માતા તો\n",
            " દસ વર્ષ અગાઉ જ મૃત્યુ પામ્યા હતા.and sequence number is      15\n",
            "sentence is તેથી શૈલેષભાઇ ના પિતા ગામ માં એકલા જ રહેતા હતા.and sequence number is      16\n",
            "sentence is તેઓ આર્થિક રીતે ખુબ જ સમૃદ્ધ હતા.and sequence number is      17\n",
            "sentence is kept in final summary \n",
            "sentence is તેથી રસોઈ ઘર ની સફાઈ જેવા નાના મોટા કામ માટે રામ નામ નો એક કુશળ નોકર રાખેલ હતો.and sequence number is      18\n",
            "sentence is kept in final summary \n",
            "sentence is આવા નામ નો ઘર નોકર રાખવા માટે શૈલેષભાઇ ના પિતા નો તર્ક હતો કે કઈ કામ માટે નોકર ને બોલાવો ત્યારે ભગવાન નું નામ સ્મરણ પણ સાથે સાથે જ થાય.and sequence number is      19\n",
            "sentence is kept in final summary \n",
            "sentence is શૈલેષભાઇ ના પિતા પડી ગયા ત્યાર બાદ તેમનો નોકર રામ અને અન્ય સબંધીઓ તેમને જૂનાગઢ હોસ્પિટલ માં લઇ આવ્યા.and sequence number is      20\n",
            "sentence is દર્દી ની ઉંમર વધારે હોય તેમજ ઘણી બધી ઈજાઓ હોવાથી જૂનાગઢ ના ડોક્ટરે રાજકોટ લઇ જવા ની સૂચના પ્રાથમિક સારવાર બાદ જૂનાગઢ ના ડોક્ટરે આપી.and sequence number is      21\n",
            "sentence is તેથી તેમને રાજકોટ ની જાણીતી ખાનગી હોસ્પિટલ માં સારવાર માટે તાત્કાલિક લઇ જવાયા હતા.and sequence number is      22\n",
            "sentence is ત્યાં વઘુ સારવાર કરતા અને એક્સ રે કરતા ડોક્ટર ને જાણવા મળ્યું કે શરીર ના મુખ્ય આધાર સ્થભ એવા મણકા ભાંગી જવા તેમજ અન્ય ઇજાઓ ને લીધે શૈલેષભાઈ ના પિતા \n",
            "થોડા દિવસો ના જ મહેમાન છે.and sequence number is      23\n",
            "sentence is તેથી તેમને શૈલેષ ભાઈ ને સલાહ આપી કે તેમની સેવા કરે અને બધી અધૂરી ઈચ્છાઓ ને પૂર્ણ કરવા નો પ્રયત્ન કરે.and sequence number is      24\n",
            "sentence is kept in final summary \n",
            "sentence is શૈલેષ ભાઇ ડોક્ટર ની વાત સમજી ગયા.and sequence number is      25\n",
            "sentence is kept in final summary \n",
            "sentence is તેમણે શાળા માં કપાત પગારે લાંબી રજા મુકવા માટે અરજી કરી.and sequence number is      26\n",
            "sentence is kept in final summary \n",
            "sentence is શાળા ના પ્રિન્સિપાલ શ્રી જે* કે* ભોજક સમગ્ર હકીકત જાણ્યા બાદ બોલ્યા :જાવ રજા લીધા વિના ચાલુ પગારે તમારા પિતા ની સેવા કરો.and sequence number is      27\n",
            "sentence is અને જો શાળા માં જિલ્લા શિક્ષણ અધિકારી\n",
            " કે અન્ય અધિકારી ની તપાસ આવશે તો તમારે કદાચ એક બે દિવસ ની રજા મુકવી પડશે, એ હું કરી નાખીશ બાકી કઈ ચિંતા ના કરતા.and sequence number is      28\n",
            "sentence is kept in final summary \n",
            "sentence is શૈલેષભાઇ ની શાળા નો સ્ટાફ પણ ખુબ જ સારો હતો.and sequence number is      29\n",
            "sentence is kept in final summary \n",
            "sentence is તેમણે પણ શૈલેષભાઇ ના વિષય નો કોર્સ પૂરો કરવો અને હાજરી પત્રક બનાવવા જેવા શૈલેષભાઇ ના કામ હળી \n",
            "મળી ને પુરા કર્યા.and sequence number is      30\n",
            "sentence is kept in final summary \n",
            "sentence is તેથી બાળકો નું શિક્ષણ કાર્ય પણ ના બગડ્યું.and sequence number is      31\n",
            "sentence is kept in final summary \n",
            "sentence is શૈલેષભાઇ પિતા ના મૃત્યુ અને અંતિમ ક્રીયાઓ પુરી કરી દોઢ મહિના બાદ શાળા માં આવ્યા.and sequence number is      32\n",
            "sentence is kept in final summary \n",
            "sentence is અને તેમણે દોઢ મહિના નો પગાર ગરીબ બાળકો ની ફી ભરવા માટે શાળા ને દાન માં આપી દીધો, કારણ કે મહેનત વિના નું ના લેવું એવુ તે માનતા હતા.and sequence number is      33\n",
            "sentence is kept in final summary \n",
            "sentence is ઘણીવાર ખોટા મિત્રો ની સંગત માં વ્યસન ને કારણે ઉધારી માં ફસાયેલ પોતાના વિદ્યાર્થી ના નાણાં પણ તે વ્યસન છોડી દેવા ની શરતે ચૂકવી દેતા.and sequence number is      34\n",
            "sentence is જેથી વિદ્યાર્થી વ્યસન છોડે અને પૈસા માટે ચોરી જેવો ગુનો ન કરે.and sequence number is      35\n",
            "sentence is kept in final summary \n",
            "sentence is આવા હોય સાચા શિક્ષક.and sequence number is      36\n",
            "sentence is kept in final summary \n",
            "sentence is .and sequence number is      37\n",
            "{'rouge-1': {'f': 0.642857137879139, 'p': 0.6885245901639344, 'r': 0.6028708133971292}, 'rouge-2': {'f': 0.4961636778865589, 'p': 0.5315068493150685, 'r': 0.46522781774580335}, 'rouge-l': {'f': 0.633928566430166, 'p': 0.6454545454545455, 'r': 0.6228070175438597}}\n"
          ],
          "name": "stdout"
        },
        {
          "output_type": "execute_result",
          "data": {
            "text/plain": [
              "47"
            ]
          },
          "metadata": {
            "tags": []
          },
          "execution_count": 26
        }
      ]
    },
    {
      "cell_type": "code",
      "metadata": {
        "id": "Wix3MhE06QRs"
      },
      "source": [
        "analyzedfile_obj.close()\n",
        "\n",
        "rougescorefilehandle.close()"
      ],
      "execution_count": 27,
      "outputs": []
    },
    {
      "cell_type": "code",
      "metadata": {
        "id": "BIkTziH05hLV",
        "colab": {
          "base_uri": "https://localhost:8080/",
          "height": 218
        },
        "outputId": "109b7d20-1286-4a7a-8f3d-e626f6816aaf"
      },
      "source": [
        "## code to download all data at end of execution .Uncomment it after all experiments done. \n",
        "\n",
        "from google.colab import files\n",
        "\n",
        "!zip -r /content/txtfiles.zip *.txt\n",
        "files.download(\"txtfiles.zip\")\n",
        "!zip -r /content/csvfiles.zip *.csv\n",
        "files.download(\"csvfiles.zip\")\n",
        "!zip -r /content/codesfiles.zip *.py\n",
        "files.download(\"codesfiles.zip\")\n",
        "\n"
      ],
      "execution_count": 14,
      "outputs": [
        {
          "output_type": "stream",
          "text": [
            "updating: original.txt (deflated 75%)\n",
            "updating: story51-analysis-randomsummary.txt (deflated 81%)\n",
            "updating: story51-gold.txt (deflated 74%)\n",
            "updating: story51-randomsummary.txt (deflated 73%)\n",
            "updating: story51-topic.txt (stored 0%)\n",
            "updating: story51.txt (deflated 75%)\n",
            "updating: temp1.txt (deflated 75%)\n",
            "updating: temp2.txt (deflated 74%)\n",
            "updating: t.txt (deflated 73%)\n"
          ],
          "name": "stdout"
        },
        {
          "output_type": "display_data",
          "data": {
            "application/javascript": [
              "\n",
              "    async function download(id, filename, size) {\n",
              "      if (!google.colab.kernel.accessAllowed) {\n",
              "        return;\n",
              "      }\n",
              "      const div = document.createElement('div');\n",
              "      const label = document.createElement('label');\n",
              "      label.textContent = `Downloading \"${filename}\": `;\n",
              "      div.appendChild(label);\n",
              "      const progress = document.createElement('progress');\n",
              "      progress.max = size;\n",
              "      div.appendChild(progress);\n",
              "      document.body.appendChild(div);\n",
              "\n",
              "      const buffers = [];\n",
              "      let downloaded = 0;\n",
              "\n",
              "      const channel = await google.colab.kernel.comms.open(id);\n",
              "      // Send a message to notify the kernel that we're ready.\n",
              "      channel.send({})\n",
              "\n",
              "      for await (const message of channel.messages) {\n",
              "        // Send a message to notify the kernel that we're ready.\n",
              "        channel.send({})\n",
              "        if (message.buffers) {\n",
              "          for (const buffer of message.buffers) {\n",
              "            buffers.push(buffer);\n",
              "            downloaded += buffer.byteLength;\n",
              "            progress.value = downloaded;\n",
              "          }\n",
              "        }\n",
              "      }\n",
              "      const blob = new Blob(buffers, {type: 'application/binary'});\n",
              "      const a = document.createElement('a');\n",
              "      a.href = window.URL.createObjectURL(blob);\n",
              "      a.download = filename;\n",
              "      div.appendChild(a);\n",
              "      a.click();\n",
              "      div.remove();\n",
              "    }\n",
              "  "
            ],
            "text/plain": [
              "<IPython.core.display.Javascript object>"
            ]
          },
          "metadata": {
            "tags": []
          }
        },
        {
          "output_type": "display_data",
          "data": {
            "application/javascript": [
              "download(\"download_36dba9ec-ed16-441a-90d4-bcf9c8f8a566\", \"txtfiles.zip\", 15908)"
            ],
            "text/plain": [
              "<IPython.core.display.Javascript object>"
            ]
          },
          "metadata": {
            "tags": []
          }
        },
        {
          "output_type": "stream",
          "text": [
            "updating: Rougeresults--randomsummarygeneration .csv (deflated 55%)\n"
          ],
          "name": "stdout"
        },
        {
          "output_type": "display_data",
          "data": {
            "application/javascript": [
              "\n",
              "    async function download(id, filename, size) {\n",
              "      if (!google.colab.kernel.accessAllowed) {\n",
              "        return;\n",
              "      }\n",
              "      const div = document.createElement('div');\n",
              "      const label = document.createElement('label');\n",
              "      label.textContent = `Downloading \"${filename}\": `;\n",
              "      div.appendChild(label);\n",
              "      const progress = document.createElement('progress');\n",
              "      progress.max = size;\n",
              "      div.appendChild(progress);\n",
              "      document.body.appendChild(div);\n",
              "\n",
              "      const buffers = [];\n",
              "      let downloaded = 0;\n",
              "\n",
              "      const channel = await google.colab.kernel.comms.open(id);\n",
              "      // Send a message to notify the kernel that we're ready.\n",
              "      channel.send({})\n",
              "\n",
              "      for await (const message of channel.messages) {\n",
              "        // Send a message to notify the kernel that we're ready.\n",
              "        channel.send({})\n",
              "        if (message.buffers) {\n",
              "          for (const buffer of message.buffers) {\n",
              "            buffers.push(buffer);\n",
              "            downloaded += buffer.byteLength;\n",
              "            progress.value = downloaded;\n",
              "          }\n",
              "        }\n",
              "      }\n",
              "      const blob = new Blob(buffers, {type: 'application/binary'});\n",
              "      const a = document.createElement('a');\n",
              "      a.href = window.URL.createObjectURL(blob);\n",
              "      a.download = filename;\n",
              "      div.appendChild(a);\n",
              "      a.click();\n",
              "      div.remove();\n",
              "    }\n",
              "  "
            ],
            "text/plain": [
              "<IPython.core.display.Javascript object>"
            ]
          },
          "metadata": {
            "tags": []
          }
        },
        {
          "output_type": "display_data",
          "data": {
            "application/javascript": [
              "download(\"download_313a94f0-4bdc-49a4-9cd7-9b63e317216b\", \"csvfiles.zip\", 476)"
            ],
            "text/plain": [
              "<IPython.core.display.Javascript object>"
            ]
          },
          "metadata": {
            "tags": []
          }
        },
        {
          "output_type": "stream",
          "text": [
            "updating: Evaluation.py (deflated 64%)\n",
            "updating: guj_final_preporcess.py (deflated 75%)\n"
          ],
          "name": "stdout"
        },
        {
          "output_type": "display_data",
          "data": {
            "application/javascript": [
              "\n",
              "    async function download(id, filename, size) {\n",
              "      if (!google.colab.kernel.accessAllowed) {\n",
              "        return;\n",
              "      }\n",
              "      const div = document.createElement('div');\n",
              "      const label = document.createElement('label');\n",
              "      label.textContent = `Downloading \"${filename}\": `;\n",
              "      div.appendChild(label);\n",
              "      const progress = document.createElement('progress');\n",
              "      progress.max = size;\n",
              "      div.appendChild(progress);\n",
              "      document.body.appendChild(div);\n",
              "\n",
              "      const buffers = [];\n",
              "      let downloaded = 0;\n",
              "\n",
              "      const channel = await google.colab.kernel.comms.open(id);\n",
              "      // Send a message to notify the kernel that we're ready.\n",
              "      channel.send({})\n",
              "\n",
              "      for await (const message of channel.messages) {\n",
              "        // Send a message to notify the kernel that we're ready.\n",
              "        channel.send({})\n",
              "        if (message.buffers) {\n",
              "          for (const buffer of message.buffers) {\n",
              "            buffers.push(buffer);\n",
              "            downloaded += buffer.byteLength;\n",
              "            progress.value = downloaded;\n",
              "          }\n",
              "        }\n",
              "      }\n",
              "      const blob = new Blob(buffers, {type: 'application/binary'});\n",
              "      const a = document.createElement('a');\n",
              "      a.href = window.URL.createObjectURL(blob);\n",
              "      a.download = filename;\n",
              "      div.appendChild(a);\n",
              "      a.click();\n",
              "      div.remove();\n",
              "    }\n",
              "  "
            ],
            "text/plain": [
              "<IPython.core.display.Javascript object>"
            ]
          },
          "metadata": {
            "tags": []
          }
        },
        {
          "output_type": "display_data",
          "data": {
            "application/javascript": [
              "download(\"download_47fea56f-be53-4676-a4f5-8cb0a7960588\", \"codesfiles.zip\", 10875)"
            ],
            "text/plain": [
              "<IPython.core.display.Javascript object>"
            ]
          },
          "metadata": {
            "tags": []
          }
        }
      ]
    },
    {
      "cell_type": "code",
      "metadata": {
        "id": "uJXfPkX9SROo"
      },
      "source": [
        ""
      ],
      "execution_count": null,
      "outputs": []
    }
  ]
}