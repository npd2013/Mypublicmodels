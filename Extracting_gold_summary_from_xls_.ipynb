{
  "nbformat": 4,
  "nbformat_minor": 0,
  "metadata": {
    "colab": {
      "name": "Extracting gold summary from xls  .ipynb",
      "provenance": [],
      "collapsed_sections": [],
      "mount_file_id": "17SEKgj1Iiviu3doNFLII5roDQNS3elYn",
      "authorship_tag": "ABX9TyNIumJ1+wXu16RCZKKHa/DY",
      "include_colab_link": true
    },
    "kernelspec": {
      "display_name": "Python 3",
      "name": "python3"
    }
  },
  "cells": [
    {
      "cell_type": "markdown",
      "metadata": {
        "id": "view-in-github",
        "colab_type": "text"
      },
      "source": [
        "<a href=\"https://colab.research.google.com/github/npd2013/Mypublicmodels/blob/main/Extracting_gold_summary_from_xls_.ipynb\" target=\"_parent\"><img src=\"https://colab.research.google.com/assets/colab-badge.svg\" alt=\"Open In Colab\"/></a>"
      ]
    },
    {
      "cell_type": "markdown",
      "metadata": {
        "id": "AXhwNhVaYVZe"
      },
      "source": [
        "Trying to convert annotated data available in xls format to text data. For making gold summaries automatically, based on tag given.  "
      ]
    },
    {
      "cell_type": "code",
      "metadata": {
        "colab": {
          "base_uri": "https://localhost:8080/"
        },
        "id": "zoLG2mZjDk2a",
        "outputId": "a6ab808b-2f4d-4680-919b-5ef14f332dc4"
      },
      "source": [
        "!pip install pandas"
      ],
      "execution_count": 1,
      "outputs": [
        {
          "output_type": "stream",
          "text": [
            "Requirement already satisfied: pandas in /usr/local/lib/python3.7/dist-packages (1.1.5)\n",
            "Requirement already satisfied: python-dateutil>=2.7.3 in /usr/local/lib/python3.7/dist-packages (from pandas) (2.8.1)\n",
            "Requirement already satisfied: numpy>=1.15.4 in /usr/local/lib/python3.7/dist-packages (from pandas) (1.19.5)\n",
            "Requirement already satisfied: pytz>=2017.2 in /usr/local/lib/python3.7/dist-packages (from pandas) (2018.9)\n",
            "Requirement already satisfied: six>=1.5 in /usr/local/lib/python3.7/dist-packages (from python-dateutil>=2.7.3->pandas) (1.15.0)\n"
          ],
          "name": "stdout"
        }
      ]
    },
    {
      "cell_type": "code",
      "metadata": {
        "colab": {
          "base_uri": "https://localhost:8080/"
        },
        "id": "wdmGcyjJD1gB",
        "outputId": "ad1f8375-94e1-4c44-8a80-f8846bd487b1"
      },
      "source": [
        " !pip install openpyxl xlsxwriter xlrd"
      ],
      "execution_count": 2,
      "outputs": [
        {
          "output_type": "stream",
          "text": [
            "Requirement already satisfied: openpyxl in /usr/local/lib/python3.7/dist-packages (2.5.9)\n",
            "Collecting xlsxwriter\n",
            "\u001b[?25l  Downloading https://files.pythonhosted.org/packages/93/51/11cb4545e95f1a845a6ca5475eb425272dc32c2f0e3592d80e7abd491374/XlsxWriter-1.4.4-py2.py3-none-any.whl (149kB)\n",
            "\u001b[K     |████████████████████████████████| 153kB 8.1MB/s \n",
            "\u001b[?25hRequirement already satisfied: xlrd in /usr/local/lib/python3.7/dist-packages (1.1.0)\n",
            "Requirement already satisfied: et-xmlfile in /usr/local/lib/python3.7/dist-packages (from openpyxl) (1.1.0)\n",
            "Requirement already satisfied: jdcal in /usr/local/lib/python3.7/dist-packages (from openpyxl) (1.4.1)\n",
            "Installing collected packages: xlsxwriter\n",
            "Successfully installed xlsxwriter-1.4.4\n"
          ],
          "name": "stdout"
        }
      ]
    },
    {
      "cell_type": "code",
      "metadata": {
        "id": "z32COAPsD4TC"
      },
      "source": [
        "import pandas as pd"
      ],
      "execution_count": 3,
      "outputs": []
    },
    {
      "cell_type": "code",
      "metadata": {
        "colab": {
          "resources": {
            "http://localhost:8080/nbextensions/google.colab/files.js": {
              "data": "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",
              "ok": true,
              "headers": [
                [
                  "content-type",
                  "application/javascript"
                ]
              ],
              "status": 200,
              "status_text": ""
            }
          },
          "base_uri": "https://localhost:8080/",
          "height": 106
        },
        "id": "Cp8c-KxUzQ9b",
        "outputId": "4dda4d50-58eb-46b9-888d-2743658a9885"
      },
      "source": [
        "print('upload the xls book with all data')\n",
        "from google.colab import files #upload the files from local machine on the colab environment \n",
        "uploaded = files.upload()"
      ],
      "execution_count": 4,
      "outputs": [
        {
          "output_type": "stream",
          "text": [
            "upload the xls book with all data\n"
          ],
          "name": "stdout"
        },
        {
          "output_type": "display_data",
          "data": {
            "text/html": [
              "\n",
              "     <input type=\"file\" id=\"files-bccf8e4d-1c55-48e8-ac3e-07e8d0533342\" name=\"files[]\" multiple disabled\n",
              "        style=\"border:none\" />\n",
              "     <output id=\"result-bccf8e4d-1c55-48e8-ac3e-07e8d0533342\">\n",
              "      Upload widget is only available when the cell has been executed in the\n",
              "      current browser session. Please rerun this cell to enable.\n",
              "      </output>\n",
              "      <script src=\"/nbextensions/google.colab/files.js\"></script> "
            ],
            "text/plain": [
              "<IPython.core.display.HTML object>"
            ]
          },
          "metadata": {
            "tags": []
          }
        },
        {
          "output_type": "stream",
          "text": [
            "Saving annotated Dataset with features-stories 1 to 50.xlsx to annotated Dataset with features-stories 1 to 50.xlsx\n"
          ],
          "name": "stdout"
        }
      ]
    },
    {
      "cell_type": "code",
      "metadata": {
        "colab": {
          "base_uri": "https://localhost:8080/"
        },
        "id": "7db8ZS0y0IPr",
        "outputId": "d52135cf-760b-42ca-c1e6-0906cf9b98bb"
      },
      "source": [
        "bookname=input('enter the xls book containing all sheets')\n",
        "\n",
        "bookname='/content/'+bookname+'.xlsx'"
      ],
      "execution_count": 5,
      "outputs": [
        {
          "output_type": "stream",
          "text": [
            "enter the xls book containing all sheetsdata\n"
          ],
          "name": "stdout"
        }
      ]
    },
    {
      "cell_type": "code",
      "metadata": {
        "colab": {
          "base_uri": "https://localhost:8080/"
        },
        "id": "OdlijRecPC_o",
        "outputId": "13e838f4-1000-4eb7-edfc-52c8b1af31c5"
      },
      "source": [
        "\n",
        "storyname=input('enter story for which gold summary needed') # example story1\n",
        "\n",
        "sheetname=storyname+'-Features-Model1'"
      ],
      "execution_count": 399,
      "outputs": [
        {
          "output_type": "stream",
          "text": [
            "enter story for which gold summary neededstory50\n"
          ],
          "name": "stdout"
        }
      ]
    },
    {
      "cell_type": "code",
      "metadata": {
        "colab": {
          "base_uri": "https://localhost:8080/",
          "height": 204
        },
        "id": "xdSMoZTmD6nR",
        "outputId": "3376ab01-4632-4b61-b3c3-fe5284576a46"
      },
      "source": [
        "\n",
        "usecolumns=[2,11,12,13]\n",
        "\n",
        "originalfile = pd.read_excel(bookname,sheet_name=sheetname,usecols=usecolumns)\n",
        "\n",
        "originalfile.head()\n"
      ],
      "execution_count": 400,
      "outputs": [
        {
          "output_type": "execute_result",
          "data": {
            "text/html": [
              "<div>\n",
              "<style scoped>\n",
              "    .dataframe tbody tr th:only-of-type {\n",
              "        vertical-align: middle;\n",
              "    }\n",
              "\n",
              "    .dataframe tbody tr th {\n",
              "        vertical-align: top;\n",
              "    }\n",
              "\n",
              "    .dataframe thead th {\n",
              "        text-align: right;\n",
              "    }\n",
              "</style>\n",
              "<table border=\"1\" class=\"dataframe\">\n",
              "  <thead>\n",
              "    <tr style=\"text-align: right;\">\n",
              "      <th></th>\n",
              "      <th>source_lines</th>\n",
              "      <th>Francy</th>\n",
              "      <th>rajat</th>\n",
              "      <th>riya</th>\n",
              "    </tr>\n",
              "  </thead>\n",
              "  <tbody>\n",
              "    <tr>\n",
              "      <th>0</th>\n",
              "      <td>બી* જે* મેડિકલ કૉલેજના મેડિસિન વિભાગના વડા અને...</td>\n",
              "      <td>1</td>\n",
              "      <td>1</td>\n",
              "      <td>1</td>\n",
              "    </tr>\n",
              "    <tr>\n",
              "      <th>1</th>\n",
              "      <td>તેમની સાથે રહેલા જુનિયર રેસિડન્ટ્સ, સિનિયર રેસ...</td>\n",
              "      <td>0</td>\n",
              "      <td>0</td>\n",
              "      <td>1</td>\n",
              "    </tr>\n",
              "    <tr>\n",
              "      <th>2</th>\n",
              "      <td>ડૉ* ડામોરસાહેબનું જ્ઞાન અને અનુભવ એટલાં વિશાળ ...</td>\n",
              "      <td>1</td>\n",
              "      <td>0</td>\n",
              "      <td>1</td>\n",
              "    </tr>\n",
              "    <tr>\n",
              "      <th>3</th>\n",
              "      <td>છતાં પણ તેમના રાઉન્ડમાં અઢળક શીખવા મળતું.</td>\n",
              "      <td>1</td>\n",
              "      <td>0</td>\n",
              "      <td>0</td>\n",
              "    </tr>\n",
              "    <tr>\n",
              "      <th>4</th>\n",
              "      <td>તેથી બધા જ ડૉક્ટરો તેમના રાઉન્ડમાં જોડાવા તત્પ...</td>\n",
              "      <td>1</td>\n",
              "      <td>1</td>\n",
              "      <td>0</td>\n",
              "    </tr>\n",
              "  </tbody>\n",
              "</table>\n",
              "</div>"
            ],
            "text/plain": [
              "                                        source_lines  Francy  rajat  riya\n",
              "0  બી* જે* મેડિકલ કૉલેજના મેડિસિન વિભાગના વડા અને...       1      1     1\n",
              "1  તેમની સાથે રહેલા જુનિયર રેસિડન્ટ્સ, સિનિયર રેસ...       0      0     1\n",
              "2  ડૉ* ડામોરસાહેબનું જ્ઞાન અને અનુભવ એટલાં વિશાળ ...       1      0     1\n",
              "3          છતાં પણ તેમના રાઉન્ડમાં અઢળક શીખવા મળતું.       1      0     0\n",
              "4  તેથી બધા જ ડૉક્ટરો તેમના રાઉન્ડમાં જોડાવા તત્પ...       1      1     0"
            ]
          },
          "metadata": {
            "tags": []
          },
          "execution_count": 400
        }
      ]
    },
    {
      "cell_type": "code",
      "metadata": {
        "id": "lT7KXWKkH1N_"
      },
      "source": [
        "df = pd.DataFrame(originalfile)#get the data in dataframe from file "
      ],
      "execution_count": 401,
      "outputs": []
    },
    {
      "cell_type": "code",
      "metadata": {
        "id": "UGHm8wYcRzQv"
      },
      "source": [
        "mapping = {df.columns[1]: 'rater1',df.columns[2]: 'rater2',df.columns[3]: 'rater3'}\n",
        "df=df.rename(columns=mapping) #rename the collumns for raters \n"
      ],
      "execution_count": 402,
      "outputs": []
    },
    {
      "cell_type": "code",
      "metadata": {
        "id": "SDXO1u_rStsl"
      },
      "source": [
        "res=df[(df['rater1']==1) & (df['rater2']==1)&(df['rater3']==1)] \n",
        "\n",
        "# Include a line only if all agree that it is needed. or ommit even if one person feels it is not needed"
      ],
      "execution_count": 403,
      "outputs": []
    },
    {
      "cell_type": "code",
      "metadata": {
        "id": "bo4fLnusLe_k"
      },
      "source": [
        "All_agree_golddata=res['source_lines']\n",
        "file_name=storyname+'_allagree_gold_.txt'\n",
        "file_obj=open(file_name,mode='w',encoding='UTF-8')\n",
        "for line in All_agree_golddata:\n",
        " file_obj.write(str(line))\n",
        "file_obj.close()\n",
        "       \n"
      ],
      "execution_count": 404,
      "outputs": []
    },
    {
      "cell_type": "code",
      "metadata": {
        "colab": {
          "base_uri": "https://localhost:8080/"
        },
        "id": "NjVRtZHNVVPz",
        "outputId": "02bc63a8-2ee3-4e14-bdf3-6393614c6919"
      },
      "source": [
        "total=df['rater1']+df['rater2']+df['rater3']\n",
        "res1=df[total==1] \n",
        "print(res1)\n",
        "#if maximum say to not include, we omit it \n",
        "Max_agree_golddata=res1['source_lines']\n",
        "file_name=storyname+'_maxagree_gold_.txt'\n",
        "file_obj=open(file_name,mode='w',encoding='UTF-8')\n",
        "for line in df['source_lines']:\n",
        " \n",
        "  if line in res1['source_lines']:\n",
        "     print('same in max')\n",
        "  else:   \n",
        "     file_obj.write(str(line))\n",
        "file_obj.close() "
      ],
      "execution_count": 405,
      "outputs": [
        {
          "output_type": "stream",
          "text": [
            "                                         source_lines  rater1  rater2  rater3\n",
            "1   તેમની સાથે રહેલા જુનિયર રેસિડન્ટ્સ, સિનિયર રેસ...       0       0       1\n",
            "3           છતાં પણ તેમના રાઉન્ડમાં અઢળક શીખવા મળતું.       1       0       0\n",
            "8   જૂનું પણ સોનું તો સોનું જ છે, તેમ આ લઘરવઘર વૃદ...       0       1       0\n",
            "42                           સમય પણ કેવા ખેલ ખેલે છે.       1       0       0\n",
            "53  બધાને નવાઈ લાગતી હતી, સાહેબને આ બ્રાહ્મણ સાથે ...       0       1       0\n",
            "54           ‘કેટલાક સંબંધોને બધા ક્યાં સમજી શકે છે’.       0       1       0\n",
            "57  તેણે બધા રેસિડન્ટ ડૉક્ટરોને કોલ કરી બોલાવી લીધ...       0       0       1\n",
            "67               તેની પાછળ આખો સ્ટાફ મદદ કરવા દોડ્યો.       1       0       0\n",
            "80  એકલવ્યએ તેનો અંગૂઠો ગુરુ દ્રોણને અર્પણ કર્યો, ...       0       1       0\n"
          ],
          "name": "stdout"
        }
      ]
    },
    {
      "cell_type": "code",
      "metadata": {
        "colab": {
          "base_uri": "https://localhost:8080/",
          "height": 1000
        },
        "id": "vSQZqmtia12m",
        "outputId": "d7ca1b18-9d9b-49a9-e212-7cf2def6a47c"
      },
      "source": [
        "\n",
        "from google.colab import files\n",
        "!zip -r /content/txtfiles.zip *.txt\n",
        "files.download(\"txtfiles.zip\")\n"
      ],
      "execution_count": 407,
      "outputs": [
        {
          "output_type": "stream",
          "text": [
            "  adding: story10_allagree_gold_.txt (deflated 71%)\n",
            "  adding: story10_maxagree_gold_.txt (deflated 73%)\n",
            "  adding: story11_allagree_gold_.txt (deflated 74%)\n",
            "  adding: story11_maxagree_gold_.txt (deflated 76%)\n",
            "  adding: story12_allagree_gold_.txt (deflated 77%)\n",
            "  adding: story12_maxagree_gold_.txt (deflated 78%)\n",
            "  adding: story13_allagree_gold_.txt (deflated 74%)\n",
            "  adding: story13_maxagree_gold_.txt (deflated 77%)\n",
            "  adding: story14_allagree_gold_.txt (deflated 76%)\n",
            "  adding: story14_maxagree_gold_.txt (deflated 78%)\n",
            "  adding: story15_allagree_gold_.txt (deflated 70%)\n",
            "  adding: story15_maxagree_gold_.txt (deflated 75%)\n",
            "  adding: story16_allagree_gold_.txt (deflated 74%)\n",
            "  adding: story16_maxagree_gold_.txt (deflated 82%)\n",
            "  adding: story17_allagree_gold_.txt (deflated 74%)\n",
            "  adding: story17_maxagree_gold_.txt (deflated 76%)\n",
            "  adding: story18_allagree_gold_.txt (deflated 74%)\n",
            "  adding: story18_maxagree_gold_.txt (deflated 76%)\n",
            "  adding: story19_allagree_gold_.txt (deflated 73%)\n",
            "  adding: story19_maxagree_gold_.txt (deflated 75%)\n",
            "  adding: story1_allagree_gold_.txt (deflated 75%)\n",
            "  adding: story1_maxagree_gold_.txt (deflated 76%)\n",
            "  adding: story20_allagree_gold_.txt (deflated 74%)\n",
            "  adding: story20_maxagree_gold_.txt (deflated 78%)\n",
            "  adding: story21_allagree_gold_.txt (deflated 75%)\n",
            "  adding: story21_maxagree_gold_.txt (deflated 76%)\n",
            "  adding: story22_allagree_gold_.txt (deflated 73%)\n",
            "  adding: story22_maxagree_gold_.txt (deflated 78%)\n",
            "  adding: story23_allagree_gold_.txt (deflated 73%)\n",
            "  adding: story23_maxagree_gold_.txt (deflated 77%)\n",
            "  adding: story24_allagree_gold_.txt (deflated 73%)\n",
            "  adding: story24_maxagree_gold_.txt (deflated 75%)\n",
            "  adding: story25_allagree_gold_.txt (deflated 74%)\n",
            "  adding: story25_maxagree_gold_.txt (deflated 77%)\n",
            "  adding: story26_allagree_gold_.txt (deflated 73%)\n",
            "  adding: story26_maxagree_gold_.txt (deflated 78%)\n",
            "  adding: story27_allagree_gold_.txt (deflated 76%)\n",
            "  adding: story27_maxagree_gold_.txt (deflated 76%)\n",
            "  adding: story28_allagree_gold_.txt (deflated 71%)\n",
            "  adding: story28_maxagree_gold_.txt (deflated 75%)\n",
            "  adding: story29_allagree_gold_.txt (deflated 70%)\n",
            "  adding: story29_maxagree_gold_.txt (deflated 74%)\n",
            "  adding: story2_allagree_gold_.txt (deflated 75%)\n",
            "  adding: story2_maxagree_gold_.txt (deflated 76%)\n",
            "  adding: story30_allagree_gold_.txt (deflated 72%)\n",
            "  adding: story30_maxagree_gold_.txt (deflated 75%)\n",
            "  adding: story31_allagree_gold_.txt (deflated 73%)\n",
            "  adding: story31_maxagree_gold_.txt (deflated 77%)\n",
            "  adding: story32_allagree_gold_.txt (deflated 74%)\n",
            "  adding: story32_maxagree_gold_.txt (deflated 76%)\n",
            "  adding: story33_allagree_gold_.txt (deflated 74%)\n",
            "  adding: story33_maxagree_gold_.txt (deflated 77%)\n",
            "  adding: story34_allagree_gold_.txt (deflated 74%)\n",
            "  adding: story34_maxagree_gold_.txt (deflated 75%)\n",
            "  adding: story35_allagree_gold_.txt (deflated 73%)\n",
            "  adding: story35_maxagree_gold_.txt (deflated 79%)\n",
            "  adding: story36_allagree_gold_.txt (deflated 73%)\n",
            "  adding: story36_maxagree_gold_.txt (deflated 76%)\n",
            "  adding: story37_allagree_gold_.txt (deflated 76%)\n",
            "  adding: story37_maxagree_gold_.txt (deflated 76%)\n",
            "  adding: story38_allagree_gold_.txt (deflated 75%)\n",
            "  adding: story38_maxagree_gold_.txt (deflated 76%)\n",
            "  adding: story39_allagree_gold_.txt (deflated 75%)\n",
            "  adding: story39_maxagree_gold_.txt (deflated 76%)\n",
            "  adding: story3_allagree_gold_.txt (deflated 74%)\n",
            "  adding: story3_maxagree_gold_.txt (deflated 75%)\n",
            "  adding: story40_allagree_gold_.txt (deflated 80%)\n",
            "  adding: story40_maxagree_gold_.txt (deflated 81%)\n",
            "  adding: story41_allagree_gold_.txt (deflated 72%)\n",
            "  adding: story41_maxagree_gold_.txt (deflated 74%)\n",
            "  adding: story42_allagree_gold_.txt (deflated 74%)\n",
            "  adding: story42_maxagree_gold_.txt (deflated 76%)\n",
            "  adding: story43_allagree_gold_.txt (deflated 73%)\n",
            "  adding: story43_maxagree_gold_.txt (deflated 75%)\n",
            "  adding: story44_allagree_gold_.txt (deflated 73%)\n",
            "  adding: story44_maxagree_gold_.txt (deflated 76%)\n",
            "  adding: story45_allagree_gold_.txt (deflated 73%)\n",
            "  adding: story45_maxagree_gold_.txt (deflated 76%)\n",
            "  adding: story46_allagree_gold_.txt (deflated 74%)\n",
            "  adding: story46_maxagree_gold_.txt (deflated 77%)\n",
            "  adding: story47_allagree_gold_.txt (deflated 75%)\n",
            "  adding: story47_maxagree_gold_.txt (deflated 76%)\n",
            "  adding: story48_allagree_gold_.txt (deflated 75%)\n",
            "  adding: story48_maxagree_gold_.txt (deflated 76%)\n",
            "  adding: story49_allagree_gold_.txt (deflated 73%)\n",
            "  adding: story49_maxagree_gold_.txt (deflated 75%)\n",
            "  adding: story4_allagree_gold_.txt (deflated 75%)\n",
            "  adding: story4_maxagree_gold_.txt (deflated 76%)\n",
            "  adding: story50_allagree_gold_.txt (deflated 74%)\n",
            "  adding: story50_maxagree_gold_.txt (deflated 76%)\n",
            "  adding: story5_allagree_gold_.txt (deflated 73%)\n",
            "  adding: story5_maxagree_gold_.txt (deflated 73%)\n",
            "  adding: story6_allagree_gold_.txt (deflated 72%)\n",
            "  adding: story6_maxagree_gold_.txt (deflated 73%)\n",
            "  adding: story7_allagree_gold_.txt (deflated 75%)\n",
            "  adding: story7_maxagree_gold_.txt (deflated 76%)\n",
            "  adding: story8_allagree_gold_.txt (deflated 73%)\n",
            "  adding: story8_maxagree_gold_.txt (deflated 73%)\n",
            "  adding: story9_allagree_gold_.txt (deflated 74%)\n",
            "  adding: story9_maxagree_gold_.txt (deflated 76%)\n"
          ],
          "name": "stdout"
        },
        {
          "output_type": "display_data",
          "data": {
            "application/javascript": [
              "\n",
              "    async function download(id, filename, size) {\n",
              "      if (!google.colab.kernel.accessAllowed) {\n",
              "        return;\n",
              "      }\n",
              "      const div = document.createElement('div');\n",
              "      const label = document.createElement('label');\n",
              "      label.textContent = `Downloading \"${filename}\": `;\n",
              "      div.appendChild(label);\n",
              "      const progress = document.createElement('progress');\n",
              "      progress.max = size;\n",
              "      div.appendChild(progress);\n",
              "      document.body.appendChild(div);\n",
              "\n",
              "      const buffers = [];\n",
              "      let downloaded = 0;\n",
              "\n",
              "      const channel = await google.colab.kernel.comms.open(id);\n",
              "      // Send a message to notify the kernel that we're ready.\n",
              "      channel.send({})\n",
              "\n",
              "      for await (const message of channel.messages) {\n",
              "        // Send a message to notify the kernel that we're ready.\n",
              "        channel.send({})\n",
              "        if (message.buffers) {\n",
              "          for (const buffer of message.buffers) {\n",
              "            buffers.push(buffer);\n",
              "            downloaded += buffer.byteLength;\n",
              "            progress.value = downloaded;\n",
              "          }\n",
              "        }\n",
              "      }\n",
              "      const blob = new Blob(buffers, {type: 'application/binary'});\n",
              "      const a = document.createElement('a');\n",
              "      a.href = window.URL.createObjectURL(blob);\n",
              "      a.download = filename;\n",
              "      div.appendChild(a);\n",
              "      a.click();\n",
              "      div.remove();\n",
              "    }\n",
              "  "
            ],
            "text/plain": [
              "<IPython.core.display.Javascript object>"
            ]
          },
          "metadata": {
            "tags": []
          }
        },
        {
          "output_type": "display_data",
          "data": {
            "application/javascript": [
              "download(\"download_ea7ead29-99c9-4ee4-b63a-2aec879a37fe\", \"txtfiles.zip\", 282529)"
            ],
            "text/plain": [
              "<IPython.core.display.Javascript object>"
            ]
          },
          "metadata": {
            "tags": []
          }
        }
      ]
    }
  ]
}